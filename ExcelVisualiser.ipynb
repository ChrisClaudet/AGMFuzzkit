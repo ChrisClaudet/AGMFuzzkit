{
 "cells": [
  {
   "cell_type": "code",
   "execution_count": 1,
   "metadata": {},
   "outputs": [],
   "source": [
    "import networkx as nx\n",
    "import matplotlib.pyplot as plt\n",
    "import seaborn as sns\n",
    "%matplotlib notebook\n",
    "sns.set()\n",
    "from ipynb.fs.full.PerpendicularDistance import GetPerpendicularDistance, Haversine\n",
    "from ipynb.fs.full.GetTaxiway import GetNodeLinks"
   ]
  },
  {
   "cell_type": "code",
   "execution_count": 2,
   "metadata": {},
   "outputs": [],
   "source": [
    "with open('hkg_network_post.txt', mode='r') as BabyFlightNodes:\n",
    "    FlightEdges = BabyFlightNodes.read().split(\"%SECTION%\")[2]\n",
    "with open('hkg_network_post.txt', mode='r') as BabyFlightNodes:\n",
    "    FlightNodes = BabyFlightNodes.read().split(\"%SECTION%\")[1]"
   ]
  },
  {
   "cell_type": "code",
   "execution_count": 3,
   "metadata": {},
   "outputs": [],
   "source": [
    "with open('Flight2_HKG.txt', mode='r') as BabyFlight:\n",
    "    Flight1 = BabyFlight.read().split(\"\\n\")[1]"
   ]
  },
  {
   "cell_type": "code",
   "execution_count": 4,
   "metadata": {},
   "outputs": [],
   "source": [
    "from ipynb.fs.full.GetTrajectory import GetTrajectory"
   ]
  },
  {
   "cell_type": "code",
   "execution_count": 5,
   "metadata": {},
   "outputs": [],
   "source": [
    "from ipynb.fs.full.GetTaxiway import GetTaxiway, GetEdgeID, GetEdgeStart, GetEdgeEnd, GetEdgeSpecification, GetEdgeLength, GetEdgesAndNodes"
   ]
  },
  {
   "cell_type": "code",
   "execution_count": 6,
   "metadata": {},
   "outputs": [],
   "source": [
    "FlightNodesList = GetTaxiway(FlightNodes, FlightEdges)[0]\n",
    "FlightEdgesList = GetTaxiway(FlightNodes, FlightEdges)[1]\n",
    "FlightEdgesWeights = GetTaxiway(FlightNodes, FlightEdges)[2]"
   ]
  },
  {
   "cell_type": "code",
   "execution_count": 7,
   "metadata": {},
   "outputs": [],
   "source": [
    "FlightCoordsList = GetTrajectory(Flight1)\n",
    "AllNodeLinks = GetNodeLinks(FlightNodesList, FlightEdgesList)"
   ]
  },
  {
   "cell_type": "code",
   "execution_count": 8,
   "metadata": {},
   "outputs": [],
   "source": [
    "Node = []\n",
    "for index, item in enumerate(FlightCoordsList):\n",
    "    Node.append((float(item[0]),float(item[1])))"
   ]
  },
  {
   "cell_type": "code",
   "execution_count": 9,
   "metadata": {},
   "outputs": [],
   "source": [
    "EdgesAndNodes = GetEdgesAndNodes(FlightEdgesList, FlightNodesList)"
   ]
  },
  {
   "cell_type": "code",
   "execution_count": 10,
   "metadata": {},
   "outputs": [],
   "source": [
    "Nodict = {}\n",
    "for index, item in enumerate(Node):\n",
    "    NodeX = item[0]\n",
    "    NodeY = item[1]\n",
    "    Nodict[int(index+1)] = (NodeX, NodeY)"
   ]
  },
  {
   "cell_type": "code",
   "execution_count": 11,
   "metadata": {},
   "outputs": [],
   "source": [
    "G = nx.Graph()\n",
    "\n",
    "Nodict = {}\n",
    "for index, item in enumerate(Node):\n",
    "    NodeX = item[0]\n",
    "    NodeY = item[1]\n",
    "    Nodict[int(index+1)] = (NodeX, NodeY)\n",
    "    \n",
    "NodesPos = {}\n",
    "\n",
    "for item in FlightNodesList:\n",
    "    NodeX = float(item[1])\n",
    "    NodeY = float(item[2])\n",
    "    NodesPos[int(item[0])] = (NodeX, NodeY)\n",
    "\n",
    "G.add_nodes_from(NodesPos.keys())\n",
    "for n, p in iter(NodesPos.items()):\n",
    "    G.node[n]['pos'] = p\n",
    "\n",
    "NodeLinks = []\n",
    "for item in EdgesAndNodes:\n",
    "    NodeLinks.append((item[1], item[2], {'weight':item[3]}))\n",
    "G.add_edges_from(NodeLinks)\n",
    "\n",
    "#specification = nx.get_edge_attributes(G, 'specification')\n",
    "weight = nx.get_edge_attributes(G, 'weight')\n",
    "pos = nx.get_node_attributes(G, 'pos')"
   ]
  },
  {
   "cell_type": "markdown",
   "metadata": {},
   "source": [
    "plt.figure(1)\n",
    "\n",
    "dic = {'taxiway':'red', 'gate': 'blue'}\n",
    "\n",
    "nx.draw_networkx(G, pos, node_size = 0.01, with_labels = False)\n",
    "plt.figure(2)\n",
    "nx.draw_networkx(H, pos2, node_size = 0.1, with_labels = False)\n",
    "#nx.draw_networkx_edge_labels(G, pos, edge_labels=weight)\n"
   ]
  },
  {
   "cell_type": "code",
   "execution_count": 12,
   "metadata": {},
   "outputs": [],
   "source": [
    "#nx.draw_networkx?"
   ]
  },
  {
   "cell_type": "code",
   "execution_count": 13,
   "metadata": {},
   "outputs": [
    {
     "data": {
      "text/plain": [
       "(2490,\n",
       " 2198,\n",
       " 2199,\n",
       " 129.33780595365022,\n",
       " 'gate',\n",
       " 22.3159992,\n",
       " 113.9252673,\n",
       " 22.3149608,\n",
       " 113.9246989)"
      ]
     },
     "execution_count": 13,
     "metadata": {},
     "output_type": "execute_result"
    }
   ],
   "source": [
    "GateEdges = []\n",
    "for item in EdgesAndNodes:\n",
    "    if item[4] == 'gate':\n",
    "        GateEdges.append(item)\n",
    "GateEdges[0]"
   ]
  },
  {
   "cell_type": "code",
   "execution_count": 14,
   "metadata": {},
   "outputs": [
    {
     "data": {
      "text/plain": [
       "(22.3149608, 113.9246989)"
      ]
     },
     "execution_count": 14,
     "metadata": {},
     "output_type": "execute_result"
    }
   ],
   "source": [
    "Node = []\n",
    "Nodes = []\n",
    "GateNodes = []\n",
    "for item in FlightNodesList:\n",
    "    Nodes.append((float(item[1]),float(item[2])))\n",
    "for item in FlightCoordsList:\n",
    "    Node.append((float(item[0]),float(item[1])))\n",
    "for item in GateEdges:\n",
    "    GateNodes.append((item[5], item[6]))\n",
    "    GateNodes.append((item[7], item[8]))\n",
    "GateNodes[1]"
   ]
  },
  {
   "cell_type": "code",
   "execution_count": 15,
   "metadata": {},
   "outputs": [
    {
     "data": {
      "text/plain": [
       "((30.209284, 120.388565),\n",
       " (22.2959659, 113.9029503),\n",
       " (22.2967974, 113.9053643),\n",
       " (22.295528, 113.8983679))"
      ]
     },
     "execution_count": 15,
     "metadata": {},
     "output_type": "execute_result"
    }
   ],
   "source": [
    "Node[4], Nodes[4], Nodes[8], Nodes[3]"
   ]
  },
  {
   "cell_type": "code",
   "execution_count": 16,
   "metadata": {},
   "outputs": [
    {
     "name": "stdout",
     "output_type": "stream",
     "text": [
      "[966, 484, 483, 275, 964, 344, 280, 710, 714, 2]\n"
     ]
    }
   ],
   "source": [
    "from scipy import spatial\n",
    "tree = spatial.KDTree(Nodes)\n",
    "HighlightedNodeIDs = list(tree.query(Node[200], 10)[1])\n",
    "print(HighlightedNodeIDs)"
   ]
  },
  {
   "cell_type": "code",
   "execution_count": 17,
   "metadata": {},
   "outputs": [
    {
     "data": {
      "text/plain": [
       "[(22.31144, 113.9353378),\n",
       " (22.3056468, 113.9326848),\n",
       " (22.3055606, 113.9325412),\n",
       " (22.3066833, 113.9329488),\n",
       " (22.3120579, 113.9351152),\n",
       " (22.3099947, 113.9341481),\n",
       " (22.3070578, 113.9328091),\n",
       " (22.3099092, 113.9339807),\n",
       " (22.3053424, 113.931895),\n",
       " (22.310662, 113.9341883)]"
      ]
     },
     "execution_count": 17,
     "metadata": {},
     "output_type": "execute_result"
    }
   ],
   "source": [
    "HighlightedNodes=[]\n",
    "for item in HighlightedNodeIDs:\n",
    "    HighlightedNodes.append(Nodes[item])\n",
    "HighlightedNodes    "
   ]
  },
  {
   "cell_type": "code",
   "execution_count": 18,
   "metadata": {},
   "outputs": [],
   "source": [
    "HighlightEdge = []\n",
    "for item in EdgesAndNodes:\n",
    "    for i in HighlightedNodes:\n",
    "        if item[5] == i[0] and item[6] == i[1]:\n",
    "            HighlightEdge.append(item)\n",
    "        elif item[7] == i[0] and item[8] == i[1]:\n",
    "            HighlightEdge.append(item)\n",
    "    else:\n",
    "        pass\n",
    "HighlightedEdges1 = list(set(HighlightEdge))\n",
    "HighlightedEdges2 = set(HighlightEdge)"
   ]
  },
  {
   "cell_type": "code",
   "execution_count": 19,
   "metadata": {},
   "outputs": [
    {
     "data": {
      "text/plain": [
       "(236,\n",
       " 1595,\n",
       " 1594,\n",
       " 12.241710236809912,\n",
       " 'taxiway',\n",
       " 22.3013027,\n",
       " 113.9202653,\n",
       " 22.3012161,\n",
       " 113.9203389)"
      ]
     },
     "execution_count": 19,
     "metadata": {},
     "output_type": "execute_result"
    }
   ],
   "source": [
    "EdgesAndNodes[100]"
   ]
  },
  {
   "cell_type": "code",
   "execution_count": 20,
   "metadata": {},
   "outputs": [],
   "source": [
    "def GetEdgesBetween(NodePath, EdgesAndNodes):\n",
    "    EdgesBetween = []\n",
    "    for index, EdgeNode in enumerate(NodePath):\n",
    "        for edge in EdgesAndNodes:\n",
    "            try:\n",
    "                if EdgeNode in [edge[1], edge[2]] and NodePath[index+1] in [edge[1],edge[2]]:\n",
    "                    EdgesBetween.append(edge)\n",
    "            except IndexError:\n",
    "                pass\n",
    "    return EdgesBetween\n"
   ]
  },
  {
   "cell_type": "code",
   "execution_count": 21,
   "metadata": {},
   "outputs": [],
   "source": [
    "def GetEdgeDistance(EdgeSample):\n",
    "    '''Returns the distance magnitude following one start of an edge to another end of an edge'''\n",
    "    D = 0\n",
    "    for e in EdgeSample:\n",
    "        d = Haversine(e[5], e[6], e[7], e[8]) * 1000\n",
    "        D += d\n",
    "    return D"
   ]
  },
  {
   "cell_type": "code",
   "execution_count": 22,
   "metadata": {},
   "outputs": [
    {
     "data": {
      "text/plain": [
       "[50, 2638, 40]"
      ]
     },
     "execution_count": 22,
     "metadata": {},
     "output_type": "execute_result"
    }
   ],
   "source": [
    "NodePath = nx.dijkstra_path(G,50,40)"
   ]
  },
  {
   "cell_type": "code",
   "execution_count": 23,
   "metadata": {},
   "outputs": [],
   "source": [
    "EdgePath = GetEdgesBetween(NodePath, EdgesAndNodes)"
   ]
  },
  {
   "cell_type": "code",
   "execution_count": 24,
   "metadata": {},
   "outputs": [],
   "source": [
    "def GetCorrectedEdge(EdgePath):\n",
    "    '''\n",
    "    Returns a new final edge with the correct direction e.g. first node then last node in terms of the trajectory.\n",
    "    '''\n",
    "    if EdgePath[-1][1] in [EdgePath[-2][1:3]]:\n",
    "        ChosenEdgeStart = EdgePath[-1][1]\n",
    "        ChosenNodeStartX = EdgePath[-1][5]\n",
    "        ChosenNodeStartY = EdgePath[-1][6]\n",
    "        ChosenEdgeEnd = EdgePath[-1][2]\n",
    "        ChosenNodeEndX = EdgePath[-1][7]\n",
    "        ChosenNodeEndY = EdgePAth[-1][8]\n",
    "    else:\n",
    "        ChosenEdgeStart = EdgePath[-1][2]\n",
    "        ChosenNodeStartX = EdgePath[-1][7]\n",
    "        ChosenNodeStartY = EdgePath[-1][8]\n",
    "        ChosenEdgeEnd = EdgePath[-1][1]\n",
    "        ChosenNodeEndX = EdgePath[-1][5]\n",
    "        ChosenNodeEndY = EdgePath[-1][6]\n",
    "    NewChosenEdge = (EdgePath[-1][0], ChosenEdgeStart, ChosenEdgeEnd, EdgePath[-1][3], EdgePath[-1][4], ChosenNodeStartX, ChosenNodeStartY, ChosenNodeEndX, ChosenNodeEndY)\n",
    "    return (NewChosenEdge)"
   ]
  },
  {
   "cell_type": "code",
   "execution_count": 25,
   "metadata": {},
   "outputs": [],
   "source": [
    "def GetEdgeDistance2(NewEdgeEnd, ChosenEdgeStart):\n",
    "    '''Gets the distance between two edges taking into account the end of the start edge and the start of the end edge'''\n",
    "    return(GetEdgeDistance(GetEdgesBetween(nx.dijkstra_path(G,NewEdgeEnd, ChosenEdgeStart), EdgesAndNodes)))"
   ]
  },
  {
   "cell_type": "code",
   "execution_count": 32,
   "metadata": {},
   "outputs": [],
   "source": [
    "NewChosenEdge = GetCorrectedEdge(EdgePath)"
   ]
  },
  {
   "cell_type": "code",
   "execution_count": 27,
   "metadata": {},
   "outputs": [],
   "source": [
    "def GetDistanceError(PrevEdgeEnd, NewEdgeEnd, edge, PrevX, PrevY, PrevEndX, PrevEndY, PointX, PointY):\n",
    "    '''\n",
    "    Returns an SMP2 Input which compares the edge travelled and the node travelled\n",
    "    '''\n",
    "    NodePath = nx.dijkstra_path(G, PrevEdgeEnd, edge[1])\n",
    "    EdgePath = GetEdgesBetween(NodePath, EdgesAndNodes)\n",
    "    NewChosenEdge = GetCorrectedEdge(EdgePath)\n",
    "    EdgeDistance = GetEdgeDistance2(NewEdgeEnd, NewChosenEdge[1]) + Haversine(PrevX, PrevY, PrevEndX, PrevEndY) + Haversine(NewChosenEdge[5], NewChosenEdge[6], PointX, PointY)\n",
    "    \n",
    "    TrajectoryDistance = Haversine(PrevX, PrevY, PointX, PointY)\n",
    "    \n",
    "    DistanceError = EdgeDistance - TrajectoryDistance\n",
    "    return(DistanceError)"
   ]
  },
  {
   "cell_type": "code",
   "execution_count": 28,
   "metadata": {},
   "outputs": [],
   "source": [
    "#Get Neighbor Node\n",
    "def GetNeighbor(AllNodeLinks, NodeID):\n",
    "    '''\n",
    "    Returns a list of the neighboring nodes of a node in the taxiway network\n",
    "    '''\n",
    "    return(AllNodeLinks[NodeID])\n",
    "\n",
    "def GetPerpendicularDistance(PointX, PointY, IntX, IntY):\n",
    "    '''\n",
    "    Returns the perpendicular distance between 2 coords\n",
    "    '''\n",
    "    DistanceX = PointX - IntX\n",
    "    DistanceY = PointY - IntY\n",
    "    Magnitude = ((DistanceX**2)+(DistanceY**2))**(1/2)\n",
    "    return Magnitude"
   ]
  },
  {
   "cell_type": "code",
   "execution_count": 30,
   "metadata": {},
   "outputs": [],
   "source": [
    "def GetConnectivity(NewEdgeEnd, Edge):\n",
    "    '''\n",
    "    Returns an SMP2 input stating whether an edge is a neighbor to the previous edge or not\n",
    "    '''\n",
    "    if Edge[1] in GetNeighbor(AllNodeLinks, NewEdgeEnd) or Edge[2] in GetNeighbor(AllNodeLinks, NewEdgeEnd):\n",
    "        Connectivity = 1\n",
    "    else:\n",
    "        Connectivity = 0\n",
    "    return(Connectivity)"
   ]
  }
 ],
 "metadata": {
  "kernelspec": {
   "display_name": "Python 3",
   "language": "python",
   "name": "python3"
  },
  "language_info": {
   "codemirror_mode": {
    "name": "ipython",
    "version": 3
   },
   "file_extension": ".py",
   "mimetype": "text/x-python",
   "name": "python",
   "nbconvert_exporter": "python",
   "pygments_lexer": "ipython3",
   "version": "3.7.1"
  }
 },
 "nbformat": 4,
 "nbformat_minor": 2
}
