{
 "cells": [
  {
   "cell_type": "code",
   "execution_count": 1,
   "metadata": {},
   "outputs": [
    {
     "data": {
      "text/plain": [
       "'/Users/Daboya/Documents/Sublime'"
      ]
     },
     "execution_count": 1,
     "metadata": {},
     "output_type": "execute_result"
    }
   ],
   "source": [
    "pwd"
   ]
  },
  {
   "cell_type": "code",
   "execution_count": 2,
   "metadata": {},
   "outputs": [],
   "source": [
    "import networkx as nx\n",
    "G = nx.Graph()"
   ]
  },
  {
   "cell_type": "code",
   "execution_count": 16,
   "metadata": {},
   "outputs": [],
   "source": [
    "import collections"
   ]
  },
  {
   "cell_type": "code",
   "execution_count": 3,
   "metadata": {},
   "outputs": [],
   "source": [
    "with open('BabyFlightNodes.txt', mode='r') as BabyFlightNodes:\n",
    "    FlightEdges = BabyFlightNodes.read().split(\"%SECTION%\")[2]\n",
    "with open('BabyFlightNodes.txt', mode='r') as BabyFlightNodes:\n",
    "    FlightNodes = BabyFlightNodes.read().split(\"%SECTION%\")[1]"
   ]
  },
  {
   "cell_type": "code",
   "execution_count": 4,
   "metadata": {},
   "outputs": [
    {
     "data": {
      "text/plain": [
       "'1%;Edges;\\n%FIELDS%;edge_id;start_node;end_node;directed;length;specification;traversal_time;name;\\n%DESCRIPTION%;ID;node_id;node_id;0 for undirected, 1 for directed;[m];{gate,runway,taxiway,taxiwayrunway,other};[s];name;\\n;1;1;2;0;8.06225775;taxiway;8.06225775;;\\n;2;2;3;0;6.40312424;taxiway;6.40312424;;\\n;3;3;4;0;7.07106781;taxiway;7.07106781;;\\n;4;4;5;0;3;taxiway;3;;\\n;5;5;6;0;11;taxiway;11;;\\n;6;6;7;0;4.12310563;taxiway;4.12310563;;\\n;7;7;8;0;3.60555128;taxiway;3.60555128;;\\n;8;8;13;0;7.07106781;taxiway;7.07106781;;\\n;9;5;9;0;5.09901951;taxiway;5.09901951;;\\n;10;9;10;0;6.40312424;taxiway;6.40312424;;\\n;11;10;11;0;2.23606798;taxiway;2.23606798;;\\n;12;11;12;0;4.47213595;taxiway;4.47213595;;\\n;13;12;13;0;6.08276253;taxiway;6.08276253;;\\n;14;13;14;0;5;taxiway;5;;'"
      ]
     },
     "execution_count": 4,
     "metadata": {},
     "output_type": "execute_result"
    }
   ],
   "source": [
    "FlightEdges"
   ]
  },
  {
   "cell_type": "code",
   "execution_count": 39,
   "metadata": {},
   "outputs": [],
   "source": [
    "def GetTaxiway(FlightNodes, FlightEdges):\n",
    "    '''\n",
    "    Gets the Taxiway from Raw Data files showing the nodes and edges in Tuples\n",
    "    '''\n",
    "    FlightNodesCoords = list(FlightNodes.split(\"\\n\")[3:-1])\n",
    "    FlightEdgesCoords = list(FlightEdges.split(\"\\n\")[3:])\n",
    "    \n",
    "    NodeID = []\n",
    "    NodeXCoords = []\n",
    "    NodeYCoords = []\n",
    "    NodeLon = []\n",
    "    NodeLat = []\n",
    "    NodeName = []\n",
    "    NodeType = []\n",
    "    \n",
    "    for item in FlightNodesCoords:\n",
    "        if item == []:\n",
    "            pass\n",
    "        else:\n",
    "            ItemSplit = list(item.split(\";\")[0:-1])\n",
    "              \n",
    "            NodeID.append(ItemSplit[1])\n",
    "            NodeXCoords.append(ItemSplit[2])\n",
    "            NodeYCoords.append(ItemSplit[3])\n",
    "            NodeLat.append(ItemSplit[4])\n",
    "            NodeLon.append(ItemSplit[5])\n",
    "            NodeName.append(ItemSplit[6])\n",
    "            NodeType.append(ItemSplit[7])\n",
    "        \n",
    "    FlightNodesList = list(zip(NodeID, NodeLat, NodeLon, NodeName, NodeType))\n",
    "    \n",
    "    EdgeID = [] \n",
    "    EdgeStart = [] \n",
    "    EdgeEnd = [] \n",
    "    EdgeDirected = [] \n",
    "    EdgeLength = [] \n",
    "    EdgeSpecification = [] \n",
    "    EdgeTraversalTime = [] \n",
    "    EdgeName = [] \n",
    "    \n",
    "    for item in FlightEdgesCoords:\n",
    "        \n",
    "        if item == []:\n",
    "            pass\n",
    "        else:\n",
    "            ItemSplit = list(item.split(\";\"))\n",
    "            \n",
    "            EdgeID.append(ItemSplit[1])\n",
    "            EdgeStart.append(ItemSplit[2])\n",
    "            EdgeEnd.append(ItemSplit[3])\n",
    "            EdgeDirected.append(ItemSplit[4])\n",
    "            EdgeLength.append(ItemSplit[5])\n",
    "            EdgeSpecification.append(ItemSplit[6])\n",
    "            EdgeTraversalTime.append(ItemSplit[7])\n",
    "            EdgeName.append(ItemSplit[8])\n",
    "    \n",
    "    FlightEdgesList = list(zip(EdgeID, EdgeStart, EdgeEnd, EdgeDirected, EdgeLength, EdgeSpecification, EdgeName))\n",
    "    FlightEdgesWeights = list(zip(EdgeID, EdgeStart, EdgeEnd, EdgeLength))\n",
    "    \n",
    "    return (FlightNodesList, FlightEdgesList, FlightEdgesWeights)"
   ]
  },
  {
   "cell_type": "code",
   "execution_count": 41,
   "metadata": {},
   "outputs": [],
   "source": [
    "FlightNodesList = GetTaxiway(FlightNodes, FlightEdges)[0]\n",
    "FlightEdgesList = GetTaxiway(FlightNodes, FlightEdges)[1]\n",
    "FlightEdgesWeights = GetTaxiway(FlightNodes, FlightEdges)[2]"
   ]
  },
  {
   "cell_type": "code",
   "execution_count": 88,
   "metadata": {},
   "outputs": [],
   "source": [
    "FlightEdgesInfo = []\n",
    "\n",
    "def GetEdges(FlightNodesList, FlightEdgesList):\n",
    "    for item in FlightEdgesList:\n",
    "        FlightEdgesInfo.append(item[0])\n",
    "    \n",
    "        return(FlightEdgesInfo)"
   ]
  },
  {
   "cell_type": "code",
   "execution_count": 89,
   "metadata": {},
   "outputs": [
    {
     "data": {
      "text/plain": [
       "[('1', '8.0', '30.0', '', 'intermediate'),\n",
       " ('2', '12.0', '23.0', '', 'intermediate'),\n",
       " ('3', '17.0', '19.0', '', 'intermediate'),\n",
       " ('4', '24.0', '18.0', '', 'intermediate'),\n",
       " ('5', '27.0', '18.0', '', 'intermediate'),\n",
       " ('6', '38.0', '18.0', '', 'intermediate'),\n",
       " ('7', '42.0', '19,0', '', 'intermediate'),\n",
       " ('8', '44.0', '22.0', '', 'intermediate'),\n",
       " ('9', '28.0', '23.0', '', 'intermediate'),\n",
       " ('10', '33.0', '27.0', '', 'intermediate'),\n",
       " ('11', '35.0', '28.0', '', 'intermediate'),\n",
       " ('12', '39.0', '30.0', '', 'intermediate'),\n",
       " ('13', '45.0', '29.0', '', 'intermediate'),\n",
       " ('14', '50.0', '29.0', '', 'intermediate')]"
      ]
     },
     "execution_count": 89,
     "metadata": {},
     "output_type": "execute_result"
    }
   ],
   "source": [
    "FlightNodesList"
   ]
  },
  {
   "cell_type": "markdown",
   "metadata": {},
   "source": [
    "FlightNodesList"
   ]
  },
  {
   "cell_type": "code",
   "execution_count": 86,
   "metadata": {},
   "outputs": [
    {
     "data": {
      "text/plain": [
       "[('1', '1', '2', '0', '8.06225775', 'taxiway', ''),\n",
       " ('2', '2', '3', '0', '6.40312424', 'taxiway', ''),\n",
       " ('3', '3', '4', '0', '7.07106781', 'taxiway', ''),\n",
       " ('4', '4', '5', '0', '3', 'taxiway', ''),\n",
       " ('5', '5', '6', '0', '11', 'taxiway', ''),\n",
       " ('6', '6', '7', '0', '4.12310563', 'taxiway', ''),\n",
       " ('7', '7', '8', '0', '3.60555128', 'taxiway', ''),\n",
       " ('8', '8', '13', '0', '7.07106781', 'taxiway', ''),\n",
       " ('9', '5', '9', '0', '5.09901951', 'taxiway', ''),\n",
       " ('10', '9', '10', '0', '6.40312424', 'taxiway', ''),\n",
       " ('11', '10', '11', '0', '2.23606798', 'taxiway', ''),\n",
       " ('12', '11', '12', '0', '4.47213595', 'taxiway', ''),\n",
       " ('13', '12', '13', '0', '6.08276253', 'taxiway', ''),\n",
       " ('14', '13', '14', '0', '5', 'taxiway', '')]"
      ]
     },
     "execution_count": 86,
     "metadata": {},
     "output_type": "execute_result"
    }
   ],
   "source": [
    "FlightEdgesList"
   ]
  },
  {
   "cell_type": "code",
   "execution_count": 87,
   "metadata": {},
   "outputs": [
    {
     "name": "stdout",
     "output_type": "stream",
     "text": [
      "1\n"
     ]
    },
    {
     "data": {
      "text/plain": [
       "[]"
      ]
     },
     "execution_count": 87,
     "metadata": {},
     "output_type": "execute_result"
    }
   ],
   "source": [
    "GetEdges(FlightNodesList, FlightEdgesList)"
   ]
  },
  {
   "cell_type": "code",
   "execution_count": 8,
   "metadata": {},
   "outputs": [],
   "source": [
    "#Now that we have our data in Tuples, we can start making the Node Map with dictionaries\n",
    "\n",
    "def GetNodes(FlightNodes, FlightEdges):\n",
    "    '''\n",
    "    This should make the Nodes with edges connected on a Graph in a dictionary\n",
    "    '''\n",
    "    Graph = {}\n",
    "    for item in FlightNodes:\n",
    "        Graph[item[0]] = []\n",
    "        \n",
    "    for item in FlightEdges:\n",
    "        \n",
    "        if item[1] in Graph.keys():\n",
    "            Graph[item[1]].append(item[2])\n",
    "        if item[2] in Graph.keys():\n",
    "            Graph[item[2]].append(item[1])\n",
    "    \n",
    "    return (Graph)"
   ]
  },
  {
   "cell_type": "code",
   "execution_count": 9,
   "metadata": {},
   "outputs": [
    {
     "data": {
      "text/plain": [
       "{'1': ['2'],\n",
       " '2': ['1', '3'],\n",
       " '3': ['2', '4'],\n",
       " '4': ['3', '5'],\n",
       " '5': ['4', '6', '9'],\n",
       " '6': ['5', '7'],\n",
       " '7': ['6', '8'],\n",
       " '8': ['7', '13'],\n",
       " '9': ['5', '10'],\n",
       " '10': ['9', '11'],\n",
       " '11': ['10', '12'],\n",
       " '12': ['11', '13'],\n",
       " '13': ['8', '12', '14'],\n",
       " '14': ['13']}"
      ]
     },
     "execution_count": 9,
     "metadata": {},
     "output_type": "execute_result"
    }
   ],
   "source": [
    "BabyFlightLinks = GetNodes(FlightNodesList, FlightEdgesList)\n",
    "BabyFlightLinks"
   ]
  },
  {
   "cell_type": "raw",
   "metadata": {},
   "source": []
  },
  {
   "cell_type": "code",
   "execution_count": 10,
   "metadata": {},
   "outputs": [],
   "source": [
    "G.add_nodes_from(BabyFlightLinks.keys())"
   ]
  },
  {
   "cell_type": "code",
   "execution_count": 30,
   "metadata": {},
   "outputs": [
    {
     "ename": "ValueError",
     "evalue": "dictionary update sequence element #0 has length 1; 2 is required",
     "output_type": "error",
     "traceback": [
      "\u001b[0;31m---------------------------------------------------------------------------\u001b[0m",
      "\u001b[0;31mValueError\u001b[0m                                Traceback (most recent call last)",
      "\u001b[0;32m<ipython-input-30-a76e86aa8511>\u001b[0m in \u001b[0;36m<module>\u001b[0;34m\u001b[0m\n\u001b[0;32m----> 1\u001b[0;31m \u001b[0mG\u001b[0m\u001b[0;34m.\u001b[0m\u001b[0madd_edges_from\u001b[0m\u001b[0;34m(\u001b[0m\u001b[0mFlightEdgesWeights\u001b[0m\u001b[0;34m)\u001b[0m\u001b[0;34m\u001b[0m\u001b[0;34m\u001b[0m\u001b[0m\n\u001b[0m",
      "\u001b[0;32m/anaconda3/lib/python3.7/site-packages/networkx/classes/graph.py\u001b[0m in \u001b[0;36madd_edges_from\u001b[0;34m(self, ebunch_to_add, **attr)\u001b[0m\n\u001b[1;32m    959\u001b[0m             \u001b[0mdatadict\u001b[0m \u001b[0;34m=\u001b[0m \u001b[0mself\u001b[0m\u001b[0;34m.\u001b[0m\u001b[0m_adj\u001b[0m\u001b[0;34m[\u001b[0m\u001b[0mu\u001b[0m\u001b[0;34m]\u001b[0m\u001b[0;34m.\u001b[0m\u001b[0mget\u001b[0m\u001b[0;34m(\u001b[0m\u001b[0mv\u001b[0m\u001b[0;34m,\u001b[0m \u001b[0mself\u001b[0m\u001b[0;34m.\u001b[0m\u001b[0medge_attr_dict_factory\u001b[0m\u001b[0;34m(\u001b[0m\u001b[0;34m)\u001b[0m\u001b[0;34m)\u001b[0m\u001b[0;34m\u001b[0m\u001b[0;34m\u001b[0m\u001b[0m\n\u001b[1;32m    960\u001b[0m             \u001b[0mdatadict\u001b[0m\u001b[0;34m.\u001b[0m\u001b[0mupdate\u001b[0m\u001b[0;34m(\u001b[0m\u001b[0mattr\u001b[0m\u001b[0;34m)\u001b[0m\u001b[0;34m\u001b[0m\u001b[0;34m\u001b[0m\u001b[0m\n\u001b[0;32m--> 961\u001b[0;31m             \u001b[0mdatadict\u001b[0m\u001b[0;34m.\u001b[0m\u001b[0mupdate\u001b[0m\u001b[0;34m(\u001b[0m\u001b[0mdd\u001b[0m\u001b[0;34m)\u001b[0m\u001b[0;34m\u001b[0m\u001b[0;34m\u001b[0m\u001b[0m\n\u001b[0m\u001b[1;32m    962\u001b[0m             \u001b[0mself\u001b[0m\u001b[0;34m.\u001b[0m\u001b[0m_adj\u001b[0m\u001b[0;34m[\u001b[0m\u001b[0mu\u001b[0m\u001b[0;34m]\u001b[0m\u001b[0;34m[\u001b[0m\u001b[0mv\u001b[0m\u001b[0;34m]\u001b[0m \u001b[0;34m=\u001b[0m \u001b[0mdatadict\u001b[0m\u001b[0;34m\u001b[0m\u001b[0;34m\u001b[0m\u001b[0m\n\u001b[1;32m    963\u001b[0m             \u001b[0mself\u001b[0m\u001b[0;34m.\u001b[0m\u001b[0m_adj\u001b[0m\u001b[0;34m[\u001b[0m\u001b[0mv\u001b[0m\u001b[0;34m]\u001b[0m\u001b[0;34m[\u001b[0m\u001b[0mu\u001b[0m\u001b[0;34m]\u001b[0m \u001b[0;34m=\u001b[0m \u001b[0mdatadict\u001b[0m\u001b[0;34m\u001b[0m\u001b[0;34m\u001b[0m\u001b[0m\n",
      "\u001b[0;31mValueError\u001b[0m: dictionary update sequence element #0 has length 1; 2 is required"
     ]
    }
   ],
   "source": [
    "G.add_edges_from(FlightEdgesWeights)"
   ]
  },
  {
   "cell_type": "code",
   "execution_count": 17,
   "metadata": {},
   "outputs": [
    {
     "data": {
      "text/plain": [
       "[('1', '1', '2', '0', '8.06225775', 'taxiway', ''),\n",
       " ('2', '2', '3', '0', '6.40312424', 'taxiway', ''),\n",
       " ('3', '3', '4', '0', '7.07106781', 'taxiway', ''),\n",
       " ('4', '4', '5', '0', '3', 'taxiway', ''),\n",
       " ('5', '5', '6', '0', '11', 'taxiway', ''),\n",
       " ('6', '6', '7', '0', '4.12310563', 'taxiway', ''),\n",
       " ('7', '7', '8', '0', '3.60555128', 'taxiway', ''),\n",
       " ('8', '8', '13', '0', '7.07106781', 'taxiway', ''),\n",
       " ('9', '5', '9', '0', '5.09901951', 'taxiway', ''),\n",
       " ('10', '9', '10', '0', '6.40312424', 'taxiway', ''),\n",
       " ('11', '10', '11', '0', '2.23606798', 'taxiway', ''),\n",
       " ('12', '11', '12', '0', '4.47213595', 'taxiway', ''),\n",
       " ('13', '12', '13', '0', '6.08276253', 'taxiway', ''),\n",
       " ('14', '13', '14', '0', '5', 'taxiway', '')]"
      ]
     },
     "execution_count": 17,
     "metadata": {},
     "output_type": "execute_result"
    }
   ],
   "source": [
    "FlightEdgesList"
   ]
  },
  {
   "cell_type": "code",
   "execution_count": null,
   "metadata": {},
   "outputs": [],
   "source": []
  }
 ],
 "metadata": {
  "kernelspec": {
   "display_name": "Python 3",
   "language": "python",
   "name": "python3"
  },
  "language_info": {
   "codemirror_mode": {
    "name": "ipython",
    "version": 3
   },
   "file_extension": ".py",
   "mimetype": "text/x-python",
   "name": "python",
   "nbconvert_exporter": "python",
   "pygments_lexer": "ipython3",
   "version": "3.7.1"
  }
 },
 "nbformat": 4,
 "nbformat_minor": 2
}
