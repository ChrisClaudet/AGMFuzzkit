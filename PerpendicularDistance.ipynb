{
 "cells": [
  {
   "cell_type": "code",
   "execution_count": 1,
   "metadata": {},
   "outputs": [],
   "source": [
    "#Get the perpendicular distance from an edge to a Trajectory coordinate"
   ]
  },
  {
   "cell_type": "code",
   "execution_count": 2,
   "metadata": {},
   "outputs": [],
   "source": [
    "import math as m"
   ]
  },
  {
   "cell_type": "code",
   "execution_count": 3,
   "metadata": {},
   "outputs": [],
   "source": [
    "def NearestPointOnLine(PointX, PointY, StartX, StartY, EndX, EndY):\n",
    "    '''\n",
    "    Returns a Coord tuple of Euclidian distance from a Point to an Edge\n",
    "    '''\n",
    "    \n",
    "    #Avoid dividing by zero\n",
    "    if (EndX - StartX) == 0:\n",
    "        (IntX, IntY) = (StartX, PointY)\n",
    "    elif (EndY - StartY) == 0:\n",
    "        (IntX, IntY) = (PointX, StartY)\n",
    "    else:\n",
    "        #Equation of the Edge line\n",
    "        mLine = (EndY - StartY)/(EndX - StartX)\n",
    "        cLine = (StartY) - (mLine*StartX)\n",
    "    \n",
    "        #Equation of Edge line to Trajectory point\n",
    "        mLineT = (-1/mLine)\n",
    "        cLineT = PointY - (mLineT*PointX)\n",
    "    \n",
    "        #Get Intersection of lines\n",
    "        IntX = (cLine - cLineT)/(mLineT - mLine)\n",
    "        IntY = (mLineT * IntX) + cLineT\n",
    "    \n",
    "    #This will return the closest edge coordinate if the edge is not in perpendicular range of Node\n",
    "    if StartX < EndX:\n",
    "        SmallerX = StartX\n",
    "        LargerX = EndX\n",
    "    else:\n",
    "        LargerX = StartX \n",
    "        SmallerX = EndX \n",
    "    if StartY < EndY:\n",
    "        SmallerY = StartY \n",
    "        LargerY = EndY\n",
    "    else:\n",
    "        LargerY = StartY \n",
    "        SmallerY = EndY \n",
    "    \n",
    "    if SmallerX <= IntX <= LargerX and SmallerY <= IntY <= LargerY:\n",
    "        return (IntX, IntY)\n",
    "    else:\n",
    "\n",
    "        NewIntX = min([SmallerX, LargerX], key=lambda x:abs(x-IntX))\n",
    "        NewIntY = min([SmallerY, LargerY], key=lambda x:abs(x-IntY))\n",
    "        \n",
    "        return (NewIntX, NewIntY)\n",
    "    "
   ]
  },
  {
   "cell_type": "code",
   "execution_count": 4,
   "metadata": {},
   "outputs": [],
   "source": [
    "#GetPerpendicularDistance between an edge and a point.\n",
    "def GetPerpendicularDistance(PointX, PointY, IntX, IntY):\n",
    "    '''\n",
    "    Returns the perpendicular distance between 2 coords\n",
    "    '''\n",
    "    DistanceX = PointX - IntX\n",
    "    DistanceY = PointY - IntY\n",
    "    Magnitude = ((DistanceX**2)+(DistanceY**2))**(1/2)\n",
    "    return Magnitude\n"
   ]
  },
  {
   "cell_type": "code",
   "execution_count": 5,
   "metadata": {},
   "outputs": [],
   "source": [
    "#GetEdgeClusters near a point\n",
    "def EdgeCircleSearch(PointX, PointY, StartX, StartY, EndX, EndY, r0):\n",
    "    '''\n",
    "    Returns True if Edge is highlighted by a circle of radius r0 around a Point\n",
    "    '''\n",
    "    \n",
    "    #PointX, PointY and r0 are the circle parameters, Start and End are the Edge Coordinates\n",
    "    if StartX == EndX:\n",
    "        if abs(r0) >= abs(StartX - PointX):\n",
    "            p1 = StartX, PointY - m.sqrt(r0**2 - (StartX-PointX)**2)\n",
    "            p2 = StartX, PointY + m.sqrt(r0**2 - (StartX-PointX)**2)\n",
    "            inp = [p1,p2]\n",
    "            # select the points lie on the line segment\n",
    "            inp = [p for p in inp]\n",
    "        else:\n",
    "            inp = []\n",
    "    else:\n",
    "        k = (StartY - EndY)/(StartX - EndX)\n",
    "        b0 = StartY - k*StartX\n",
    "        a = k**2 + 1\n",
    "        b = 2*k*(b0 - PointY) - 2*PointX\n",
    "        c = (b0 - PointY)**2 + PointX**2 - r0**2\n",
    "        delta = b**2 - 4*a*c\n",
    "        if delta >= 0:\n",
    "            p1x = (-b - m.sqrt(delta))/(2*a)\n",
    "            p2x = (-b + m.sqrt(delta))/(2*a)\n",
    "            p1y = k*p1x + b0\n",
    "            p2y = k*p2x + b0\n",
    "            inp = [[p1x,p1y],[p2x,p2y]]\n",
    "            # select the points lie on the line segment\n",
    "            inp = [p for p in inp]\n",
    "        else:\n",
    "            inp = []\n",
    "           \n",
    "    if inp == []:\n",
    "        return False\n",
    "    if inp[0][0]>=inp[1][0]:\n",
    "        LargerX = inp[0][0]\n",
    "        SmallerX = inp[1][0]\n",
    "    else:\n",
    "        LargerX = inp[1][0]\n",
    "        SmallerX = inp[0][0]\n",
    "    if inp[0][1]>=inp[1][1]:\n",
    "        LargerY = inp[0][1]\n",
    "        SmallerY = inp[1][1]\n",
    "    else:\n",
    "        LargerY = inp[1][1]\n",
    "        SmallerY = inp[0][1]\n",
    "    \n",
    "    if SmallerX <= StartX <= LargerX and SmallerY <= StartY <= LargerY:\n",
    "        return True\n",
    "    elif SmallerX <= EndX <= LargerX and SmallerY <= EndY <= LargerY:\n",
    "        return True\n",
    "    else:\n",
    "        return False"
   ]
  },
  {
   "cell_type": "code",
   "execution_count": null,
   "metadata": {},
   "outputs": [],
   "source": []
  },
  {
   "cell_type": "code",
   "execution_count": 6,
   "metadata": {},
   "outputs": [
    {
     "name": "stdout",
     "output_type": "stream",
     "text": [
      "0.026175739798742256\n"
     ]
    }
   ],
   "source": [
    "def Haversine(lat1, lon1, lat2, lon2):\n",
    "    '''\n",
    "    haversine formula which returns the distance between two Lat Lon coordinate pairs\n",
    "    '''\n",
    "    #Radius of the earth is in km\n",
    "    R = 6372.8\n",
    "\n",
    "    dLat = m.radians(lat2 - lat1)\n",
    "    dLon = m.radians(lon2 - lon1)\n",
    "    lat1 = m.radians(lat1)\n",
    "    lat2 = m.radians(lat2)\n",
    "\n",
    "    a = m.sin(dLat/2)**2 + m.cos(lat1)*m.cos(lat2)*m.sin(dLon/2)**2\n",
    "    c = 2*m.asin(m.sqrt(a))\n",
    "\n",
    "    return R * c\n",
    "\n",
    "# Usage\n",
    "lon1 = 113.92628\n",
    "lat1 = 22.309341\n",
    "lon2 = 113.92652\n",
    "lat2 = 22.309263\n",
    "\n",
    "print(Haversine(lat1, lon1, lat2, lon2))"
   ]
  },
  {
   "cell_type": "code",
   "execution_count": 7,
   "metadata": {},
   "outputs": [],
   "source": [
    "def EdgeSquareSearch(PointX, PointY, StartX, StartY, EndX, EndY, r0):\n",
    "    '''\n",
    "    Returns True if Edge is highlighted by a Square of radius r0 around a Point\n",
    "    '''\n",
    "    \n",
    "    if PointX-r0<=StartX<=PointX+r0 and PointY-r0<=StartY<=PointY+r0:\n",
    "        return True\n",
    "    elif PointX-r0<=EndX<=PointX+r0 and PointY-r0<=EndY<=PointY+r0:\n",
    "        return True\n",
    "    else:\n",
    "        return False"
   ]
  },
  {
   "cell_type": "code",
   "execution_count": null,
   "metadata": {},
   "outputs": [],
   "source": []
  }
 ],
 "metadata": {
  "kernelspec": {
   "display_name": "Python 3",
   "language": "python",
   "name": "python3"
  },
  "language_info": {
   "codemirror_mode": {
    "name": "ipython",
    "version": 3
   },
   "file_extension": ".py",
   "mimetype": "text/x-python",
   "name": "python",
   "nbconvert_exporter": "python",
   "pygments_lexer": "ipython3",
   "version": "3.7.1"
  }
 },
 "nbformat": 4,
 "nbformat_minor": 2
}
