{
 "cells": [
  {
   "cell_type": "code",
   "execution_count": 1,
   "metadata": {},
   "outputs": [],
   "source": [
    "#Get the perpendicular distance from an edge to a Trajectory coordinate"
   ]
  },
  {
   "cell_type": "code",
   "execution_count": 13,
   "metadata": {},
   "outputs": [],
   "source": [
    "import math as m"
   ]
  },
  {
   "cell_type": "code",
   "execution_count": 14,
   "metadata": {},
   "outputs": [],
   "source": [
    "def NearestPointOnLine(PointX, PointY, StartX, StartY, EndX, EndY):\n",
    "    #Avoid dividing by zero\n",
    "    if (EndX - StartX) == 0:\n",
    "        (IntX, IntY) = (StartX, PointY)\n",
    "    elif (EndY - StartY) == 0:\n",
    "        (IntX, IntY) = (PointX, StartY)\n",
    "    else:\n",
    "        #Equation of the Edge line\n",
    "        mLine = (EndY - StartY)/(EndX - StartX)\n",
    "        cLine = (StartY) - (mLine*StartX)\n",
    "    \n",
    "        #Equation of Edge line to Trajectory point\n",
    "        mLineT = (-1/mLine)\n",
    "        cLineT = PointY - (mLineT*PointX)\n",
    "    \n",
    "        #Get Intersection of lines\n",
    "        IntX = (cLine - cLineT)/(mLineT - mLine)\n",
    "        IntY = (mLineT * IntX) + cLineT\n",
    "    \n",
    "    return (IntX, IntY)"
   ]
  },
  {
   "cell_type": "code",
   "execution_count": null,
   "metadata": {},
   "outputs": [],
   "source": []
  },
  {
   "cell_type": "code",
   "execution_count": 15,
   "metadata": {},
   "outputs": [],
   "source": [
    "#GetPerpendicularDistance between an edge and a point.\n",
    "def GetPerpendicularDistance(PointX, PointY, IntX, IntY):\n",
    "    DistanceX = PointX - IntX\n",
    "    DistanceY = PointY - IntY\n",
    "    Magnitude = ((DistanceX**2)+(DistanceY**2))**(1/2)\n",
    "    return Magnitude\n"
   ]
  },
  {
   "cell_type": "code",
   "execution_count": 32,
   "metadata": {},
   "outputs": [],
   "source": [
    "#GetEdgeClusters near a point\n",
    "\n",
    "def CircleIntersection(PointX, PointY, StartX, StartY, EndX, EndY, r0):\n",
    "    # p is the circle parameter, lsp and lep is the two end of the line\n",
    "    if StartX == EndX:\n",
    "        if abs(r0) >= abs(StartX - PointX):\n",
    "            p1 = StartX, PointY - m.sqrt(r0**2 - (StartX-PointX)**2)\n",
    "            p2 = StartX, PointY + m.sqrt(r0**2 - (StartX-PointX)**2)\n",
    "            inp = [p1,p2]\n",
    "            # select the points lie on the line segment\n",
    "            inp = [p for p in inp if p[1]>=min(StartY,EndY) and p[1]<=max(StartY,EndY)]\n",
    "        else:\n",
    "            inp = []\n",
    "    else:\n",
    "        k = (StartY - EndY)/(StartX - EndX)\n",
    "        b0 = StartY - k*StartX\n",
    "        a = k**2 + 1\n",
    "        b = 2*k*(b0 + PointY) - 2*PointX\n",
    "        c = (b0 + PointY)**2 + PointX**2 - r0**2\n",
    "        delta = b**2 - 4*a*c\n",
    "        if delta >= 0:\n",
    "            p1x = (-b - m.sqrt(delta))/(2*a)\n",
    "            p2x = (-b + m.sqrt(delta))/(2*a)\n",
    "            p1y = k*p1x + b0\n",
    "            p2y = k*p2x + b0\n",
    "            inp = [[p1x,p1y],[p2x,p2y]]\n",
    "            # select the points lie on the line segment\n",
    "            inp = [p for p in inp if p[0]>=min(StartX,EndX) and p[0]<=max(StartX,EndX)]\n",
    "        else:\n",
    "            inp = []\n",
    "    return inp\n"
   ]
  },
  {
   "cell_type": "code",
   "execution_count": 33,
   "metadata": {},
   "outputs": [
    {
     "data": {
      "text/plain": [
       "[[4.678920676838573, 35.811886489363886],\n",
       " [14.151844159632137, 19.234265684923784]]"
      ]
     },
     "execution_count": 33,
     "metadata": {},
     "output_type": "execute_result"
    }
   ],
   "source": [
    "CircleIntersection(12, 29, 0, 44, 25.14285, 0, 10)"
   ]
  },
  {
   "cell_type": "code",
   "execution_count": 28,
   "metadata": {},
   "outputs": [],
   "source": [
    "def ExtendedEdgeIntersection(PointX, PointY, StartX, StartY, EndX, EndY, r0):\n",
    "    # p is the circle parameter, lsp and lep is the two end of the line\n",
    "    if StartX == EndX:\n",
    "        if abs(r0) >= abs(StartX - PointX):\n",
    "            p1 = StartX, PointY - m.sqrt(r0**2 - (StartX-PointX)**2)\n",
    "            p2 = StartX, PointY + m.sqrt(r0**2 - (StartX-PointX)**2)\n",
    "            inp = [p1,p2]\n",
    "            # select the points lie on the line segment\n",
    "            inp = [p for p in inp]\n",
    "        else:\n",
    "            inp = []\n",
    "    else:\n",
    "        k = (StartY - EndY)/(StartX - EndX)\n",
    "        b0 = StartY - k*StartX\n",
    "        a = k**2 + 1\n",
    "        b = 2*k*(b0 - PointY) - 2*PointX\n",
    "        c = (b0 - PointY)**2 + PointX**2 - r0**2\n",
    "        delta = b**2 - 4*a*c\n",
    "        if delta >= 0:\n",
    "            p1x = (-b - m.sqrt(delta))/(2*a)\n",
    "            p2x = (-b + m.sqrt(delta))/(2*a)\n",
    "            p1y = k*StartX + b0\n",
    "            p2y = k*EndX + b0\n",
    "            inp = [[p1x,p1y],[p2x,p2y]]\n",
    "            # select the points lie on the line segment\n",
    "            inp = [p for p in inp]\n",
    "        else:\n",
    "            inp = []\n",
    "            \n",
    "    if inp == []:\n",
    "        return False\n",
    "    elif StartX in range(inp[0][0], inp[1][0]) and StartY in range([inp[0][1]. inp[1][1]]):\n",
    "        pass"
   ]
  },
  {
   "cell_type": "code",
   "execution_count": 29,
   "metadata": {},
   "outputs": [
    {
     "ename": "TypeError",
     "evalue": "'float' object cannot be interpreted as an integer",
     "output_type": "error",
     "traceback": [
      "\u001b[0;31m---------------------------------------------------------------------------\u001b[0m",
      "\u001b[0;31mTypeError\u001b[0m                                 Traceback (most recent call last)",
      "\u001b[0;32m<ipython-input-29-a77cfa1f05cb>\u001b[0m in \u001b[0;36m<module>\u001b[0;34m\u001b[0m\n\u001b[0;32m----> 1\u001b[0;31m \u001b[0mExtendedEdgeIntersection\u001b[0m\u001b[0;34m(\u001b[0m\u001b[0;36m12\u001b[0m\u001b[0;34m,\u001b[0m \u001b[0;36m29\u001b[0m\u001b[0;34m,\u001b[0m \u001b[0;36m8\u001b[0m\u001b[0;34m,\u001b[0m \u001b[0;36m30\u001b[0m\u001b[0;34m,\u001b[0m \u001b[0;36m12\u001b[0m\u001b[0;34m,\u001b[0m \u001b[0;36m23\u001b[0m\u001b[0;34m,\u001b[0m \u001b[0;36m10\u001b[0m\u001b[0;34m)\u001b[0m\u001b[0;34m\u001b[0m\u001b[0;34m\u001b[0m\u001b[0m\n\u001b[0m",
      "\u001b[0;32m<ipython-input-28-e60026994166>\u001b[0m in \u001b[0;36mExtendedEdgeIntersection\u001b[0;34m(PointX, PointY, StartX, StartY, EndX, EndY, r0)\u001b[0m\n\u001b[1;32m     30\u001b[0m     \u001b[0;32mif\u001b[0m \u001b[0minp\u001b[0m \u001b[0;34m==\u001b[0m \u001b[0;34m[\u001b[0m\u001b[0;34m]\u001b[0m\u001b[0;34m:\u001b[0m\u001b[0;34m\u001b[0m\u001b[0;34m\u001b[0m\u001b[0m\n\u001b[1;32m     31\u001b[0m         \u001b[0;32mreturn\u001b[0m \u001b[0;32mFalse\u001b[0m\u001b[0;34m\u001b[0m\u001b[0;34m\u001b[0m\u001b[0m\n\u001b[0;32m---> 32\u001b[0;31m     \u001b[0;32melif\u001b[0m \u001b[0mStartX\u001b[0m \u001b[0;32min\u001b[0m \u001b[0mrange\u001b[0m\u001b[0;34m(\u001b[0m\u001b[0minp\u001b[0m\u001b[0;34m[\u001b[0m\u001b[0;36m0\u001b[0m\u001b[0;34m]\u001b[0m\u001b[0;34m[\u001b[0m\u001b[0;36m0\u001b[0m\u001b[0;34m]\u001b[0m\u001b[0;34m,\u001b[0m \u001b[0minp\u001b[0m\u001b[0;34m[\u001b[0m\u001b[0;36m1\u001b[0m\u001b[0;34m]\u001b[0m\u001b[0;34m[\u001b[0m\u001b[0;36m0\u001b[0m\u001b[0;34m]\u001b[0m\u001b[0;34m)\u001b[0m \u001b[0;32mand\u001b[0m \u001b[0mStartY\u001b[0m \u001b[0;32min\u001b[0m \u001b[0mrange\u001b[0m\u001b[0;34m(\u001b[0m\u001b[0;34m[\u001b[0m\u001b[0minp\u001b[0m\u001b[0;34m[\u001b[0m\u001b[0;36m0\u001b[0m\u001b[0;34m]\u001b[0m\u001b[0;34m[\u001b[0m\u001b[0;36m1\u001b[0m\u001b[0;34m]\u001b[0m\u001b[0;34m.\u001b[0m \u001b[0minp\u001b[0m\u001b[0;34m[\u001b[0m\u001b[0;36m1\u001b[0m\u001b[0;34m]\u001b[0m\u001b[0;34m[\u001b[0m\u001b[0;36m1\u001b[0m\u001b[0;34m]\u001b[0m\u001b[0;34m]\u001b[0m\u001b[0;34m)\u001b[0m\u001b[0;34m:\u001b[0m\u001b[0;34m\u001b[0m\u001b[0;34m\u001b[0m\u001b[0m\n\u001b[0m\u001b[1;32m     33\u001b[0m         \u001b[0;32mpass\u001b[0m\u001b[0;34m\u001b[0m\u001b[0;34m\u001b[0m\u001b[0m\n\u001b[1;32m     34\u001b[0m \u001b[0;34m\u001b[0m\u001b[0m\n",
      "\u001b[0;31mTypeError\u001b[0m: 'float' object cannot be interpreted as an integer"
     ]
    }
   ],
   "source": [
    "ExtendedEdgeIntersection(12, 29, 8, 30, 12, 23, 10)"
   ]
  },
  {
   "cell_type": "code",
   "execution_count": null,
   "metadata": {},
   "outputs": [],
   "source": []
  }
 ],
 "metadata": {
  "kernelspec": {
   "display_name": "Python 3",
   "language": "python",
   "name": "python3"
  },
  "language_info": {
   "codemirror_mode": {
    "name": "ipython",
    "version": 3
   },
   "file_extension": ".py",
   "mimetype": "text/x-python",
   "name": "python",
   "nbconvert_exporter": "python",
   "pygments_lexer": "ipython3",
   "version": "3.7.1"
  }
 },
 "nbformat": 4,
 "nbformat_minor": 2
}
