{
 "cells": [
  {
   "cell_type": "code",
   "execution_count": 1,
   "metadata": {},
   "outputs": [],
   "source": [
    "import networkx as nx\n",
    "import matplotlib.pyplot as plt\n",
    "import seaborn as sns\n",
    "%matplotlib notebook\n",
    "sns.set()"
   ]
  },
  {
   "cell_type": "code",
   "execution_count": 2,
   "metadata": {},
   "outputs": [],
   "source": [
    "with open('hkg_network_post.txt', mode='r') as BabyFlightNodes:\n",
    "    FlightEdges = BabyFlightNodes.read().split(\"%SECTION%\")[2]\n",
    "with open('hkg_network_post.txt', mode='r') as BabyFlightNodes:\n",
    "    FlightNodes = BabyFlightNodes.read().split(\"%SECTION%\")[1]"
   ]
  },
  {
   "cell_type": "code",
   "execution_count": 3,
   "metadata": {},
   "outputs": [],
   "source": [
    "with open('Flight2_HKG.txt', mode='r') as BabyFlight:\n",
    "    Flight1 = BabyFlight.read().split(\"\\n\")[1]"
   ]
  },
  {
   "cell_type": "code",
   "execution_count": 4,
   "metadata": {},
   "outputs": [],
   "source": [
    "from ipynb.fs.full.GetTrajectory import GetTrajectory"
   ]
  },
  {
   "cell_type": "code",
   "execution_count": 5,
   "metadata": {},
   "outputs": [],
   "source": [
    "from ipynb.fs.full.GetTaxiway import GetTaxiway, GetEdgeID, GetEdgeStart, GetEdgeEnd, GetEdgeSpecification, GetEdgeLength, GetEdgesAndNodes"
   ]
  },
  {
   "cell_type": "code",
   "execution_count": 6,
   "metadata": {},
   "outputs": [],
   "source": [
    "FlightNodesList = GetTaxiway(FlightNodes, FlightEdges)[0]\n",
    "FlightEdgesList = GetTaxiway(FlightNodes, FlightEdges)[1]\n",
    "FlightEdgesWeights = GetTaxiway(FlightNodes, FlightEdges)[2]"
   ]
  },
  {
   "cell_type": "code",
   "execution_count": 7,
   "metadata": {},
   "outputs": [],
   "source": [
    "FlightCoordsList = GetTrajectory(Flight1)"
   ]
  },
  {
   "cell_type": "code",
   "execution_count": 8,
   "metadata": {},
   "outputs": [],
   "source": [
    "Node = []\n",
    "for index, item in enumerate(FlightCoordsList):\n",
    "    Node.append((float(item[0]),float(item[1])))"
   ]
  },
  {
   "cell_type": "code",
   "execution_count": 9,
   "metadata": {},
   "outputs": [],
   "source": [
    "#import xlwt\n",
    "#from tempfile import TemporaryFile\n",
    "#book = xlwt.Workbook()\n",
    "#sheet1 = book.add_sheet('sheet1')\n",
    "#\n",
    "#for i,e in enumerate(FlightCoordsList):\n",
    "#    sheet1.write(i,1,e[0])\n",
    "#    sheet1.write(i,2,e[1])\n",
    "#for i,e in enumerate(FlightEdgesList):\n",
    "#    sheet1.write(i,4,e[0])\n",
    "#    sheet1.write(i,5,e[1])\n",
    "#    sheet1.write(i,4,e[0])\n",
    "#    sheet1.write(i,5,e[1])\n",
    "#    sheet1.write(i,4,e[0])\n",
    "#    sheet1.write(i,5,e[1])\n",
    "#    sheet1.write(i,4,e[0])\n",
    "#    sheet1.write(i,5,e[1])\n",
    "#    sheet1.write(i,5,e[1])\n",
    "#name = \"random.xls\"\n",
    "#book.save(name)\n",
    "#book.save(TemporaryFile())"
   ]
  },
  {
   "cell_type": "code",
   "execution_count": 10,
   "metadata": {},
   "outputs": [],
   "source": [
    "EdgesAndNodes = GetEdgesAndNodes(FlightEdgesList, FlightNodesList)"
   ]
  },
  {
   "cell_type": "code",
   "execution_count": 11,
   "metadata": {},
   "outputs": [
    {
     "data": {
      "text/plain": [
       "{1: (30.216034, 120.40428),\n",
       " 2: (30.214233, 120.399765),\n",
       " 3: (30.212448, 120.39621),\n",
       " 4: (30.210773, 120.39186),\n",
       " 5: (30.209284, 120.388565),\n",
       " 6: (30.20784, 120.38549),\n",
       " 7: (30.206305, 120.38181),\n",
       " 8: (30.204758, 120.37843),\n",
       " 9: (30.202906, 120.375),\n",
       " 10: (30.201416, 120.37105),\n",
       " 11: (30.199905, 120.36783),\n",
       " 12: (30.198349, 120.36411),\n",
       " 13: (30.196714, 120.360886),\n",
       " 14: (30.194504, 120.355225),\n",
       " 15: (30.192947, 120.35188),\n",
       " 16: (30.191483, 120.34871),\n",
       " 17: (30.189684, 120.344955),\n",
       " 18: (30.188187, 120.3416),\n",
       " 19: (30.186493, 120.33799),\n",
       " 20: (30.185165, 120.334595),\n",
       " 21: (30.183401, 120.33034),\n",
       " 22: (30.181818, 120.326935),\n",
       " 23: (30.18013, 120.32313),\n",
       " 24: (30.178345, 120.318924),\n",
       " 25: (30.176193, 120.31462),\n",
       " 26: (30.174229, 120.310234),\n",
       " 27: (30.172531, 120.30605),\n",
       " 28: (30.170366, 120.30139),\n",
       " 29: (30.168549, 120.29733),\n",
       " 30: (30.166534, 120.29265),\n",
       " 31: (30.164474, 120.28823),\n",
       " 32: (30.162453, 120.28371),\n",
       " 33: (30.160172, 120.27854),\n",
       " 34: (30.158066, 120.27374),\n",
       " 35: (30.155888, 120.26893),\n",
       " 36: (30.153654, 120.26349),\n",
       " 37: (30.15114, 120.25827),\n",
       " 38: (30.148766, 120.252945),\n",
       " 39: (30.146622, 120.247894),\n",
       " 40: (30.143925, 120.242065),\n",
       " 41: (30.141596, 120.236626),\n",
       " 42: (30.138943, 120.23091),\n",
       " 43: (30.136383, 120.22514),\n",
       " 44: (30.133621, 120.21865),\n",
       " 45: (30.13124, 120.21348),\n",
       " 46: (30.128586, 120.20756),\n",
       " 47: (30.125862, 120.201416),\n",
       " 48: (30.123255, 120.19532),\n",
       " 49: (30.119251, 120.18636),\n",
       " 50: (30.11673, 120.18073),\n",
       " 51: (30.114084, 120.17527),\n",
       " 52: (30.111557, 120.169106),\n",
       " 53: (30.108685, 120.16307),\n",
       " 54: (30.105473, 120.15599),\n",
       " 55: (30.10333, 120.15121),\n",
       " 56: (30.097961, 120.13927),\n",
       " 57: (30.092855, 120.12753),\n",
       " 58: (30.087662, 120.115845),\n",
       " 59: (30.08201, 120.10441),\n",
       " 60: (30.075584, 120.09243),\n",
       " 61: (30.069992, 120.08148),\n",
       " 62: (30.064087, 120.07023),\n",
       " 63: (30.057756, 120.05782),\n",
       " 64: (30.051682, 120.04599),\n",
       " 65: (30.043743, 120.03025),\n",
       " 66: (30.040531, 120.02393),\n",
       " 67: (30.037262, 120.01729),\n",
       " 68: (30.033966, 120.010826),\n",
       " 69: (30.030476, 120.00421),\n",
       " 70: (30.026333, 119.99872),\n",
       " 71: (30.01744, 119.99185),\n",
       " 72: (30.005219, 119.98621),\n",
       " 73: (29.992172, 119.98023),\n",
       " 74: (29.978165, 119.97382),\n",
       " 75: (29.96402, 119.96747),\n",
       " 76: (29.949875, 119.9609),\n",
       " 77: (29.933167, 119.953255),\n",
       " 78: (29.919775, 119.94719),\n",
       " 79: (29.905018, 119.940544),\n",
       " 80: (29.88881, 119.93326),\n",
       " 81: (29.872925, 119.92575),\n",
       " 82: (29.855673, 119.91803),\n",
       " 83: (29.838043, 119.910065),\n",
       " 84: (29.822617, 119.903046),\n",
       " 85: (29.803436, 119.89422),\n",
       " 86: (29.786915, 119.88674),\n",
       " 87: (29.768143, 119.87837),\n",
       " 88: (29.749237, 119.86982),\n",
       " 89: (29.729874, 119.86084),\n",
       " 90: (29.709457, 119.85159),\n",
       " 91: (29.690186, 119.84283),\n",
       " 92: (29.669416, 119.83348),\n",
       " 93: (29.650005, 119.824486),\n",
       " 94: (29.629616, 119.81533),\n",
       " 95: (29.610064, 119.80661),\n",
       " 96: (29.586365, 119.795876),\n",
       " 97: (29.568026, 119.7876),\n",
       " 98: (29.507355, 119.76006),\n",
       " 99: (29.45053, 119.73434),\n",
       " 100: (29.390848, 119.70757),\n",
       " 101: (29.324278, 119.6765),\n",
       " 102: (29.312347, 119.671005),\n",
       " 103: (29.246613, 119.66287),\n",
       " 104: (29.182205, 119.663246),\n",
       " 105: (29.095335, 119.663574),\n",
       " 106: (29.033157, 119.66372),\n",
       " 107: (28.970352, 119.66409),\n",
       " 108: (28.903885, 119.66473),\n",
       " 109: (28.847717, 119.66493),\n",
       " 110: (28.781662, 119.66547),\n",
       " 111: (28.725723, 119.66578),\n",
       " 112: (28.666264, 119.666046),\n",
       " 113: (28.610962, 119.66641),\n",
       " 114: (28.507507, 119.66694),\n",
       " 115: (28.352005, 119.66905),\n",
       " 116: (28.277206, 119.66562),\n",
       " 117: (28.239532, 119.66303),\n",
       " 118: (28.131004, 119.65603),\n",
       " 119: (27.862026, 119.653946),\n",
       " 120: (27.844116, 119.65381),\n",
       " 121: (27.56424, 119.65122),\n",
       " 122: (27.533981, 119.65091),\n",
       " 123: (27.10611, 119.648834),\n",
       " 124: (27.048523, 119.64863),\n",
       " 125: (26.968964, 119.6479),\n",
       " 126: (26.838547, 119.64655),\n",
       " 127: (26.701385, 119.64545),\n",
       " 128: (26.565765, 119.64438),\n",
       " 129: (26.5047, 119.64386),\n",
       " 130: (26.398865, 119.643135),\n",
       " 131: (26.263887, 119.64148),\n",
       " 132: (26.12915, 119.614426),\n",
       " 133: (25.999695, 119.57131),\n",
       " 134: (25.807676, 119.502174),\n",
       " 135: (25.730818, 119.45854),\n",
       " 136: (25.607454, 119.359406),\n",
       " 137: (25.502153, 119.24084),\n",
       " 138: (25.393595, 119.11403),\n",
       " 139: (25.287277, 118.98997),\n",
       " 140: (25.186295, 118.867645),\n",
       " 141: (25.082657, 118.74125),\n",
       " 142: (24.970854, 118.6112),\n",
       " 143: (24.862946, 118.48744),\n",
       " 144: (24.754166, 118.36309),\n",
       " 145: (24.65439, 118.24932),\n",
       " 146: (24.546902, 118.128784),\n",
       " 147: (24.440964, 118.00217),\n",
       " 148: (24.338907, 117.87905),\n",
       " 149: (24.23854, 117.75841),\n",
       " 150: (24.136505, 117.63586),\n",
       " 151: (24.036713, 117.51638),\n",
       " 152: (23.932785, 117.38586),\n",
       " 153: (23.92337, 117.37305),\n",
       " 154: (23.820082, 117.26506),\n",
       " 155: (23.665375, 117.10291),\n",
       " 156: (23.571167, 116.9957),\n",
       " 157: (23.419922, 116.825165),\n",
       " 158: (23.395386, 116.800545),\n",
       " 159: (23.277695, 116.700775),\n",
       " 160: (23.160763, 116.6036),\n",
       " 161: (23.045563, 116.50826),\n",
       " 162: (22.88507, 116.36389),\n",
       " 163: (22.849823, 116.31396),\n",
       " 164: (22.83664, 116.291084),\n",
       " 165: (22.828262, 116.27725),\n",
       " 166: (22.817871, 116.26252),\n",
       " 167: (22.710754, 116.18507),\n",
       " 168: (22.599335, 116.14197),\n",
       " 169: (22.580246, 116.13708),\n",
       " 170: (22.441902, 116.10535),\n",
       " 171: (22.306458, 116.074104),\n",
       " 172: (22.284742, 116.06918),\n",
       " 173: (22.26329, 116.06357),\n",
       " 174: (22.24224, 116.0556),\n",
       " 175: (22.222595, 116.045685),\n",
       " 176: (22.204102, 116.03375),\n",
       " 177: (22.182999, 116.01657),\n",
       " 178: (22.164505, 115.99715),\n",
       " 179: (22.152302, 115.98139),\n",
       " 180: (22.139236, 115.96119),\n",
       " 181: (22.13368, 115.95129),\n",
       " 182: (22.122482, 115.92744),\n",
       " 183: (22.079447, 115.77235),\n",
       " 184: (22.037476, 115.61647),\n",
       " 185: (21.991789, 115.45522),\n",
       " 186: (21.9879, 115.44189),\n",
       " 187: (21.984055, 115.428055),\n",
       " 188: (21.973076, 115.34846),\n",
       " 189: (21.964882, 115.198616),\n",
       " 190: (21.958466, 115.05817),\n",
       " 191: (21.952103, 114.91874),\n",
       " 192: (21.946426, 114.78421),\n",
       " 193: (21.95581, 114.62256),\n",
       " 194: (21.957527, 114.609886),\n",
       " 195: (21.96025, 114.5907),\n",
       " 196: (21.963867, 114.57302),\n",
       " 197: (21.967667, 114.561386),\n",
       " 198: (22.000717, 114.51334),\n",
       " 199: (22.036514, 114.4682),\n",
       " 200: (22.075378, 114.41871),\n",
       " 201: (22.115387, 114.370224),\n",
       " 202: (22.154526, 114.32318),\n",
       " 203: (22.182514, 114.28904),\n",
       " 204: (22.196945, 114.27119),\n",
       " 205: (22.212261, 114.252266),\n",
       " 206: (22.230974, 114.22897),\n",
       " 207: (22.246616, 114.20944),\n",
       " 208: (22.26233, 114.1898),\n",
       " 209: (22.271027, 114.17896),\n",
       " 210: (22.28735, 114.15848),\n",
       " 211: (22.293274, 114.15109),\n",
       " 212: (22.32212, 114.1037),\n",
       " 213: (22.32797, 114.08982),\n",
       " 214: (22.33347, 114.07649),\n",
       " 215: (22.341797, 114.04693),\n",
       " 216: (22.339952, 114.034676),\n",
       " 217: (22.336649, 114.02405),\n",
       " 218: (22.333878, 114.01551),\n",
       " 219: (22.321472, 113.97781),\n",
       " 220: (22.319595, 113.97192),\n",
       " 221: (22.314697, 113.95659),\n",
       " 222: (22.312546, 113.9497),\n",
       " 223: (22.310577, 113.94325),\n",
       " 224: (22.309368, 113.9389),\n",
       " 225: (22.308205, 113.934784),\n",
       " 226: (22.306295, 113.92853),\n",
       " 227: (22.30481, 113.92403),\n",
       " 228: (22.303503, 113.92004),\n",
       " 229: (22.302017, 113.91569),\n",
       " 230: (22.300629, 113.91167),\n",
       " 231: (22.299395, 113.90787),\n",
       " 232: (22.296776, 113.89977),\n",
       " 233: (22.296577, 113.899155),\n",
       " 234: (22.296474, 113.898865),\n",
       " 235: (22.296333, 113.89856),\n",
       " 236: (22.296352, 113.89834),\n",
       " 237: (22.296501, 113.898125),\n",
       " 238: (22.296707, 113.89797),\n",
       " 239: (22.297153, 113.89777),\n",
       " 240: (22.297451, 113.89761),\n",
       " 241: (22.297731, 113.89755),\n",
       " 242: (22.298033, 113.89797),\n",
       " 243: (22.298277, 113.89872),\n",
       " 244: (22.298367, 113.89901),\n",
       " 245: (22.29847, 113.89933),\n",
       " 246: (22.298546, 113.89955),\n",
       " 247: (22.298664, 113.89992),\n",
       " 248: (22.298756, 113.90022),\n",
       " 249: (22.298847, 113.90047),\n",
       " 250: (22.29893, 113.900734),\n",
       " 251: (22.299053, 113.90113),\n",
       " 252: (22.29934, 113.902016),\n",
       " 253: (22.299442, 113.90234),\n",
       " 254: (22.299614, 113.90284),\n",
       " 255: (22.299814, 113.9035),\n",
       " 256: (22.299908, 113.90377),\n",
       " 257: (22.29998, 113.904),\n",
       " 258: (22.300049, 113.904205),\n",
       " 259: (22.300175, 113.904594),\n",
       " 260: (22.300232, 113.904816),\n",
       " 261: (22.300442, 113.90545),\n",
       " 262: (22.30061, 113.90595),\n",
       " 263: (22.300827, 113.90665),\n",
       " 264: (22.301033, 113.90729),\n",
       " 265: (22.301176, 113.9077),\n",
       " 266: (22.301296, 113.908035),\n",
       " 267: (22.30148, 113.908646),\n",
       " 268: (22.301676, 113.90926),\n",
       " 269: (22.301838, 113.909775),\n",
       " 270: (22.302006, 113.91027),\n",
       " 271: (22.302292, 113.91117),\n",
       " 272: (22.302486, 113.91178),\n",
       " 273: (22.302704, 113.912445),\n",
       " 274: (22.303013, 113.91341),\n",
       " 275: (22.303207, 113.914),\n",
       " 276: (22.303387, 113.91455),\n",
       " 277: (22.30384, 113.91599),\n",
       " 278: (22.303974, 113.9164),\n",
       " 279: (22.304192, 113.91706),\n",
       " 280: (22.304317, 113.91745),\n",
       " 281: (22.304468, 113.91791),\n",
       " 282: (22.30466, 113.918526),\n",
       " 283: (22.304855, 113.919136),\n",
       " 284: (22.305202, 113.92019),\n",
       " 285: (22.305365, 113.92071),\n",
       " 286: (22.305784, 113.92202),\n",
       " 287: (22.305885, 113.92234),\n",
       " 288: (22.306011, 113.92275),\n",
       " 289: (22.306252, 113.92355),\n",
       " 290: (22.30648, 113.92375),\n",
       " 291: (22.306744, 113.92375),\n",
       " 292: (22.30751, 113.92348),\n",
       " 293: (22.307938, 113.92332),\n",
       " 294: (22.308205, 113.92321),\n",
       " 295: (22.308485, 113.92311),\n",
       " 296: (22.30873, 113.92302),\n",
       " 297: (22.309055, 113.922905),\n",
       " 298: (22.309422, 113.92275),\n",
       " 299: (22.30981, 113.922615),\n",
       " 300: (22.310299, 113.92244),\n",
       " 301: (22.310753, 113.92226),\n",
       " 302: (22.31123, 113.9221),\n",
       " 303: (22.31202, 113.92181),\n",
       " 304: (22.312351, 113.921684),\n",
       " 305: (22.312662, 113.92156),\n",
       " 306: (22.312992, 113.92143),\n",
       " 307: (22.31329, 113.92133),\n",
       " 308: (22.313744, 113.92115),\n",
       " 309: (22.31401, 113.92106),\n",
       " 310: (22.314396, 113.92091),\n",
       " 311: (22.314651, 113.92081),\n",
       " 312: (22.315052, 113.920616),\n",
       " 313: (22.315292, 113.92065),\n",
       " 314: (22.315525, 113.92092),\n",
       " 315: (22.315636, 113.92127),\n",
       " 316: (22.315762, 113.921684),\n",
       " 317: (22.315956, 113.92225),\n",
       " 318: (22.316154, 113.92288),\n",
       " 319: (22.316257, 113.92319),\n",
       " 320: (22.31641, 113.92359),\n",
       " 321: (22.316479, 113.924065),\n",
       " 322: (22.31638, 113.924355),\n",
       " 323: (22.316208, 113.92473),\n",
       " 324: (22.31599, 113.92522),\n",
       " 325: (22.315596, 113.92609),\n",
       " 326: (22.31542, 113.92645),\n",
       " 327: (22.315258, 113.926834),\n",
       " 328: (22.315094, 113.92718),\n",
       " 329: (22.314884, 113.927635),\n",
       " 330: (22.314909, 113.928085),\n",
       " 331: (22.314983, 113.92834),\n",
       " 332: (22.315132, 113.92877),\n",
       " 333: (22.315212, 113.92903),\n",
       " 334: (22.315292, 113.9293),\n",
       " 335: (22.315083, 113.92906),\n",
       " 336: (22.314846, 113.92905),\n",
       " 337: (22.314629, 113.92913),\n",
       " 338: (22.31409, 113.92938),\n",
       " 339: (22.314081, 113.92938),\n",
       " 340: (22.314095, 113.92938),\n",
       " 341: (22.314095, 113.92938),\n",
       " 342: (22.31409, 113.929375),\n",
       " 343: (22.314095, 113.92938),\n",
       " 344: (22.314095, 113.92938),\n",
       " 345: (22.314095, 113.92938),\n",
       " 346: (22.314095, 113.92938),\n",
       " 347: (22.314081, 113.929344),\n",
       " 348: (22.31409, 113.929375),\n",
       " 349: (22.314106, 113.92938),\n",
       " 350: (22.314047, 113.929306),\n",
       " 351: (22.314047, 113.92929),\n",
       " 352: (22.314095, 113.92927),\n",
       " 353: (22.313953, 113.92933),\n",
       " 354: (22.314056, 113.9293)}"
      ]
     },
     "execution_count": 11,
     "metadata": {},
     "output_type": "execute_result"
    }
   ],
   "source": [
    "Nodict = {}\n",
    "for index, item in enumerate(Node):\n",
    "    NodeX = item[0]\n",
    "    NodeY = item[1]\n",
    "    Nodict[int(index+1)] = (NodeX, NodeY)\n",
    "Nodict"
   ]
  },
  {
   "cell_type": "code",
   "execution_count": 39,
   "metadata": {},
   "outputs": [],
   "source": [
    "G = nx.Graph()\n",
    "\n",
    "Nodict = {}\n",
    "for index, item in enumerate(Node):\n",
    "    NodeX = item[0]\n",
    "    NodeY = item[1]\n",
    "    Nodict[int(index+1)] = (NodeX, NodeY)\n",
    "    \n",
    "Nodes = {}\n",
    "\n",
    "for item in FlightNodesList:\n",
    "    NodeX = float(item[1])\n",
    "    NodeY = float(item[2])\n",
    "    Nodes[int(item[0])] = (NodeX, NodeY)\n",
    "\n",
    "G.add_nodes_from(Nodes.keys())\n",
    "for n, p in iter(Nodes.items()):\n",
    "    G.node[n]['pos'] = p\n",
    "\n",
    "NodeLinks = []\n",
    "for item in EdgesAndNodes:\n",
    "    NodeLinks.append((item[1], item[2], {'weight':item[3]}))\n",
    "G.add_edges_from(NodeLinks)\n",
    "\n",
    "#specification = nx.get_edge_attributes(G, 'specification')\n",
    "weight = nx.get_edge_attributes(G, 'weight')\n",
    "pos = nx.get_node_attributes(G, 'pos')"
   ]
  },
  {
   "cell_type": "code",
   "execution_count": null,
   "metadata": {},
   "outputs": [],
   "source": []
  },
  {
   "cell_type": "code",
   "execution_count": 13,
   "metadata": {},
   "outputs": [
    {
     "name": "stderr",
     "output_type": "stream",
     "text": [
      "/anaconda3/lib/python3.7/site-packages/networkx/drawing/nx_pylab.py:611: MatplotlibDeprecationWarning: isinstance(..., numbers.Number)\n",
      "  if cb.is_numlike(alpha):\n"
     ]
    },
    {
     "data": {
      "image/png": "[encoded data removed]",
      "text/plain": [
       "<Figure size 432x288 with 1 Axes>"
      ]
     },
     "metadata": {
      "needs_background": "light"
     },
     "output_type": "display_data"
    },
    {
     "data": {
      "image/png": "[encoded data removed]",
      "text/plain": [
       "<Figure size 432x288 with 1 Axes>"
      ]
     },
     "metadata": {
      "needs_background": "light"
     },
     "output_type": "display_data"
    }
   ],
   "source": [
    "plt.figure(1)\n",
    "\n",
    "dic = {'taxiway':'red', 'gate': 'blue'}\n",
    "\n",
    "nx.draw_networkx(G, pos, node_size = 0.01, with_labels = False)\n",
    "plt.figure(2)\n",
    "nx.draw_networkx(H, pos2, node_size = 0.1, with_labels = False)\n",
    "#nx.draw_networkx_edge_labels(G, pos, edge_labels=weight)\n"
   ]
  },
  {
   "cell_type": "code",
   "execution_count": 14,
   "metadata": {},
   "outputs": [],
   "source": [
    "nx.draw_networkx?"
   ]
  },
  {
   "cell_type": "code",
   "execution_count": 15,
   "metadata": {},
   "outputs": [
    {
     "data": {
      "text/plain": [
       "(2490,\n",
       " 2198,\n",
       " 2199,\n",
       " 129.33780595365022,\n",
       " 'gate',\n",
       " 22.3159992,\n",
       " 113.9252673,\n",
       " 22.3149608,\n",
       " 113.9246989)"
      ]
     },
     "execution_count": 15,
     "metadata": {},
     "output_type": "execute_result"
    }
   ],
   "source": [
    "GateEdges = []\n",
    "for item in EdgesAndNodes:\n",
    "    if item[4] == 'gate':\n",
    "        GateEdges.append(item)\n",
    "GateEdges[0]"
   ]
  },
  {
   "cell_type": "code",
   "execution_count": 16,
   "metadata": {},
   "outputs": [
    {
     "data": {
      "text/plain": [
       "(22.3149608, 113.9246989)"
      ]
     },
     "execution_count": 16,
     "metadata": {},
     "output_type": "execute_result"
    }
   ],
   "source": [
    "Node = []\n",
    "Nodes = []\n",
    "GateNodes = []\n",
    "for item in FlightNodesList:\n",
    "    Nodes.append((float(item[1]),float(item[2])))\n",
    "for item in FlightCoordsList:\n",
    "    Node.append((float(item[0]),float(item[1])))\n",
    "for item in GateEdges:\n",
    "    GateNodes.append((item[5], item[6]))\n",
    "    GateNodes.append((item[7], item[8]))\n",
    "GateNodes[1]"
   ]
  },
  {
   "cell_type": "code",
   "execution_count": 17,
   "metadata": {},
   "outputs": [
    {
     "data": {
      "text/plain": [
       "((30.209284, 120.388565),\n",
       " (22.2959659, 113.9029503),\n",
       " (22.2967974, 113.9053643),\n",
       " (22.295528, 113.8983679))"
      ]
     },
     "execution_count": 17,
     "metadata": {},
     "output_type": "execute_result"
    }
   ],
   "source": [
    "Node[4], Nodes[4], Nodes[8], Nodes[3]"
   ]
  },
  {
   "cell_type": "code",
   "execution_count": 18,
   "metadata": {},
   "outputs": [
    {
     "name": "stdout",
     "output_type": "stream",
     "text": [
      "[966, 484, 483, 275, 964, 344, 280, 710, 714, 2]\n"
     ]
    }
   ],
   "source": [
    "from scipy import spatial\n",
    "tree = spatial.KDTree(Nodes)\n",
    "HighlightedNodeIDs = list(tree.query(Node[200], 10)[1])\n",
    "print(HighlightedNodeIDs)"
   ]
  },
  {
   "cell_type": "code",
   "execution_count": 19,
   "metadata": {},
   "outputs": [
    {
     "data": {
      "text/plain": [
       "[(22.31144, 113.9353378),\n",
       " (22.3056468, 113.9326848),\n",
       " (22.3055606, 113.9325412),\n",
       " (22.3066833, 113.9329488),\n",
       " (22.3120579, 113.9351152),\n",
       " (22.3099947, 113.9341481),\n",
       " (22.3070578, 113.9328091),\n",
       " (22.3099092, 113.9339807),\n",
       " (22.3053424, 113.931895),\n",
       " (22.310662, 113.9341883)]"
      ]
     },
     "execution_count": 19,
     "metadata": {},
     "output_type": "execute_result"
    }
   ],
   "source": [
    "HighlightedNodes=[]\n",
    "for item in HighlightedNodeIDs:\n",
    "    HighlightedNodes.append(Nodes[item])\n",
    "HighlightedNodes    "
   ]
  },
  {
   "cell_type": "code",
   "execution_count": 20,
   "metadata": {},
   "outputs": [],
   "source": [
    "HighlightEdge = []\n",
    "for item in EdgesAndNodes:\n",
    "    for i in HighlightedNodes:\n",
    "        if item[5] == i[0] and item[6] == i[1]:\n",
    "            HighlightEdge.append(item)\n",
    "        elif item[7] == i[0] and item[8] == i[1]:\n",
    "            HighlightEdge.append(item)\n",
    "    else:\n",
    "        pass\n",
    "HighlightedEdges1 = list(set(HighlightEdge))\n",
    "HighlightedEdges2 = set(HighlightEdge)"
   ]
  },
  {
   "cell_type": "code",
   "execution_count": 31,
   "metadata": {},
   "outputs": [
    {
     "data": {
      "text/plain": [
       "(236,\n",
       " 1595,\n",
       " 1594,\n",
       " 12.241710236809912,\n",
       " 'taxiway',\n",
       " 22.3013027,\n",
       " 113.9202653,\n",
       " 22.3012161,\n",
       " 113.9203389)"
      ]
     },
     "execution_count": 31,
     "metadata": {},
     "output_type": "execute_result"
    }
   ],
   "source": [
    "EdgesAndNodes[100]"
   ]
  },
  {
   "cell_type": "code",
   "execution_count": 36,
   "metadata": {},
   "outputs": [
    {
     "data": {
      "text/plain": [
       "[50, 2638]"
      ]
     },
     "execution_count": 36,
     "metadata": {},
     "output_type": "execute_result"
    }
   ],
   "source": [
    "NodePath = nx.dijkstra_path(G,50,2638)\n",
    "NodePath"
   ]
  },
  {
   "cell_type": "code",
   "execution_count": 43,
   "metadata": {},
   "outputs": [],
   "source": [
    "def GetEdgesBetween(NodePath, EdgesAndNodes):\n",
    "    EdgesBetween = []\n",
    "    for index, EdgeNode in enumerate(NodePath):\n",
    "        for edge in EdgesAndNodes:\n",
    "            try:\n",
    "                if EdgeNode in [edge[1], edge[2]] and NodePath[index+1] in [edge[1],edge[2]]:\n",
    "                    EdgesBetween.append(edge)\n",
    "            except IndexError:\n",
    "                pass\n",
    "    return EdgesBetween\n",
    "\n"
   ]
  },
  {
   "cell_type": "code",
   "execution_count": 50,
   "metadata": {},
   "outputs": [],
   "source": [
    "EdgeSample = []\n",
    "EdgeSample.append(GetEdgesBetween(nx.dijkstra_path(G,50,60), EdgesAndNodes))"
   ]
  },
  {
   "cell_type": "code",
   "execution_count": null,
   "metadata": {},
   "outputs": [],
   "source": []
  },
  {
   "cell_type": "code",
   "execution_count": null,
   "metadata": {},
   "outputs": [],
   "source": []
  },
  {
   "cell_type": "code",
   "execution_count": null,
   "metadata": {},
   "outputs": [],
   "source": []
  }
 ],
 "metadata": {
  "kernelspec": {
   "display_name": "Python 3",
   "language": "python",
   "name": "python3"
  },
  "language_info": {
   "codemirror_mode": {
    "name": "ipython",
    "version": 3
   },
   "file_extension": ".py",
   "mimetype": "text/x-python",
   "name": "python",
   "nbconvert_exporter": "python",
   "pygments_lexer": "ipython3",
   "version": "3.7.1"
  }
 },
 "nbformat": 4,
 "nbformat_minor": 2
}
