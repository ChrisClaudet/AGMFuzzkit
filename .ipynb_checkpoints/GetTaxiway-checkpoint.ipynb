{
 "cells": [
  {
   "cell_type": "code",
   "execution_count": 1,
   "metadata": {},
   "outputs": [],
   "source": [
    "import networkx as nx\n",
    "G = nx.Graph()"
   ]
  },
  {
   "cell_type": "code",
   "execution_count": 2,
   "metadata": {},
   "outputs": [],
   "source": [
    "with open('hkg_network_post.txt', mode='r') as BabyFlightNodes:\n",
    "    FlightEdges = BabyFlightNodes.read().split(\"%SECTION%\")[2]\n",
    "with open('hkg_network_post.txt', mode='r') as BabyFlightNodes:\n",
    "    FlightNodes = BabyFlightNodes.read().split(\"%SECTION%\")[1]"
   ]
  },
  {
   "cell_type": "code",
   "execution_count": 3,
   "metadata": {},
   "outputs": [],
   "source": [
    "def GetTaxiway(FlightNodes, FlightEdges):\n",
    "    '''\n",
    "    Gets the Taxiway from Raw Data files showing the nodes and edges in Tuples\n",
    "    '''\n",
    "    FlightNodesCoords = list(FlightNodes.split(\"\\n\")[3:-1])\n",
    "    FlightEdgesCoords = list(FlightEdges.split(\"\\n\")[3:])\n",
    "    \n",
    "    NodeID = []\n",
    "    NodeXCoords = []\n",
    "    NodeYCoords = []\n",
    "    NodeLon = []\n",
    "    NodeLat = []\n",
    "    NodeName = []\n",
    "    NodeType = []\n",
    "    \n",
    "    for item in FlightNodesCoords:\n",
    "        if item == []:\n",
    "            pass\n",
    "        else:\n",
    "            ItemSplit = list(item.split(\";\")[0:-1])\n",
    "            try:  \n",
    "                NodeID.append(ItemSplit[1])\n",
    "                NodeXCoords.append(ItemSplit[2])\n",
    "                NodeYCoords.append(ItemSplit[3])\n",
    "                NodeLat.append(ItemSplit[4])\n",
    "                NodeLon.append(ItemSplit[5])\n",
    "                NodeName.append(ItemSplit[6])\n",
    "                NodeType.append(ItemSplit[7])\n",
    "            except IndexError:\n",
    "                break\n",
    "    FlightNodesList = list(zip(NodeID, NodeLat, NodeLon, NodeName, NodeType))\n",
    "    \n",
    "    EdgeID = [] \n",
    "    EdgeStart = [] \n",
    "    EdgeEnd = [] \n",
    "    EdgeDirected = [] \n",
    "    EdgeLength = [] \n",
    "    EdgeSpecification = [] \n",
    "    EdgeTraversalTime = [] \n",
    "    EdgeName = [] \n",
    "    \n",
    "    for item in FlightEdgesCoords:\n",
    "        \n",
    "        if item == []:\n",
    "            pass\n",
    "        else:\n",
    "            ItemSplit = list(item.split(\";\"))\n",
    "            try:\n",
    "                EdgeID.append(ItemSplit[1])\n",
    "                EdgeStart.append(ItemSplit[2])\n",
    "                EdgeEnd.append(ItemSplit[3])\n",
    "                EdgeDirected.append(ItemSplit[4])\n",
    "                EdgeLength.append(ItemSplit[5])\n",
    "                EdgeSpecification.append(ItemSplit[6])\n",
    "                EdgeTraversalTime.append(ItemSplit[7])\n",
    "                EdgeName.append(ItemSplit[8])\n",
    "            except IndexError:\n",
    "                break\n",
    "    FlightEdgesList = list(zip(EdgeID, EdgeStart, EdgeEnd, EdgeDirected, EdgeLength, EdgeSpecification, EdgeName))\n",
    "    FlightEdgesWeights = list(zip(EdgeID, EdgeStart, EdgeEnd, EdgeLength))\n",
    "    \n",
    "    return (FlightNodesList, FlightEdgesList, FlightEdgesWeights)"
   ]
  },
  {
   "cell_type": "code",
   "execution_count": 4,
   "metadata": {},
   "outputs": [],
   "source": [
    "FlightNodesList = GetTaxiway(FlightNodes, FlightEdges)[0]\n",
    "FlightEdgesList = GetTaxiway(FlightNodes, FlightEdges)[1]\n",
    "FlightEdgesWeights = GetTaxiway(FlightNodes, FlightEdges)[2]"
   ]
  },
  {
   "cell_type": "code",
   "execution_count": 5,
   "metadata": {},
   "outputs": [],
   "source": [
    "#This will unpack each tuple to call any information about the list of Edges and Nodes\n",
    "def GetEdgeID(FlightEdgesList):\n",
    "    return [x[0] for x in FlightEdgesList]\n",
    "\n",
    "def GetEdgeStart(FlightEdgesList, FlightNodesList):\n",
    "    FlightEdgesStartNodes = [x[1] for x in FlightEdgesList]\n",
    "    index = 0\n",
    "    EdgeStartPoint = []\n",
    "    for item in [x[1] for x in FlightEdgesList]:\n",
    "        counter = 0\n",
    "        for value in [x[0] for x in FlightNodesList]:\n",
    "        \n",
    "            if item == value:\n",
    "                EdgeStartPoint.append((FlightNodesList[counter][1], FlightNodesList[counter][2]))\n",
    "            counter += 1\n",
    "        index += 1\n",
    "    return (EdgeStartPoint)\n",
    "\n",
    "def GetEdgeEnd(FlightEdgesList, FlightNodesList):\n",
    "    FlightEdgesEndNodes = [x[2] for x in FlightEdgesList]\n",
    "    index = 0\n",
    "    EdgeEndPoint = []\n",
    "    for item in [x[2] for x in FlightEdgesList]:\n",
    "        counter = 0\n",
    "        for value in [x[0] for x in FlightNodesList]:\n",
    "        \n",
    "            if item == value:\n",
    "                EdgeEndPoint.append((FlightNodesList[counter][1], FlightNodesList[counter][2]))\n",
    "            counter += 1\n",
    "        index += 1\n",
    "    return (EdgeEndPoint)\n",
    "\n",
    "def GetEdgeLength(FlightEdgesList):\n",
    "    return [x[4] for x in FlightEdgesList]\n",
    "\n",
    "def GetEdgeSpecification(FlightEdgesList):\n",
    "    return [x[5] for x in FlightEdgesList]\n"
   ]
  },
  {
   "cell_type": "code",
   "execution_count": 6,
   "metadata": {},
   "outputs": [],
   "source": [
    "[x[1] for x in FlightEdgesList];"
   ]
  },
  {
   "cell_type": "code",
   "execution_count": 7,
   "metadata": {},
   "outputs": [],
   "source": [
    "#Now that we have our data in Tuples, we can start making the Node Map with dictionaries\n",
    "\n",
    "def GetNodeLinks(FlightNodes, FlightEdges):\n",
    "    '''\n",
    "    Returns Nodes with edges connected on a Graph in a dictionary\n",
    "    '''\n",
    "    Graph = {}\n",
    "    for item in FlightNodes:\n",
    "        Graph[item[0]] = []\n",
    "        \n",
    "    for item in FlightEdges:\n",
    "        \n",
    "        if item[1] in Graph.keys():\n",
    "            Graph[item[1]].append(item[2])\n",
    "        if item[2] in Graph.keys():\n",
    "            Graph[item[2]].append(item[1])\n",
    "    \n",
    "    return (Graph)"
   ]
  },
  {
   "cell_type": "code",
   "execution_count": 8,
   "metadata": {},
   "outputs": [],
   "source": [
    "BabyFlightLinks = GetNodeLinks(FlightNodesList, FlightEdgesList)\n",
    "BabyFlightLinks;\n"
   ]
  },
  {
   "cell_type": "code",
   "execution_count": null,
   "metadata": {},
   "outputs": [],
   "source": []
  },
  {
   "cell_type": "code",
   "execution_count": 10,
   "metadata": {
    "scrolled": true
   },
   "outputs": [],
   "source": [
    "def GetEdgesAndNodes(FlightEdgesList, FlightNodesList):\n",
    "    '''\n",
    "    Returns a list of tuples which give all info on edges including the coordinates of start and end.\n",
    "    '''\n",
    "    \n",
    "    EdgeIDList = GetEdgeID(FlightEdgesList)\n",
    "    EdgeStartList = GetEdgeStart(FlightEdgesList, FlightNodesList)\n",
    "    EdgeEndList = GetEdgeEnd(FlightEdgesList, FlightNodesList)\n",
    "    EdgeLengthList = GetEdgeLength(FlightEdgesList)\n",
    "    EdgeSpecificationList = GetEdgeSpecification(FlightEdgesList)\n",
    "    EdgeAndNodes = []\n",
    "    for index, edge in enumerate(FlightEdgesList):\n",
    "        try:\n",
    "            EdgeID = int(EdgeIDList[index])\n",
    "            NodeStart = int(edge[1])\n",
    "            NodeEnd = int(edge[2])\n",
    "            EdgeStart = EdgeStartList[index]\n",
    "            EdgeEnd = EdgeEndList[index]\n",
    "            EdgeLength = float(EdgeLengthList[index])\n",
    "            EdgeSpecification = EdgeSpecificationList[index]\n",
    "        except IndexError:\n",
    "            break\n",
    "        \n",
    "        StartX = float(EdgeStart[0])\n",
    "        StartY = float(EdgeStart[1])\n",
    "        EndX = float(EdgeEnd[0])\n",
    "        EndY = float(EdgeEnd[1])\n",
    "        #This part below is important for calling things\n",
    "        EdgeAndNodes.append((EdgeID, NodeStart, NodeEnd, EdgeLength, EdgeSpecification, StartX, StartY, EndX, EndY))\n",
    "    return (EdgeAndNodes)"
   ]
  },
  {
   "cell_type": "code",
   "execution_count": null,
   "metadata": {},
   "outputs": [],
   "source": []
  }
 ],
 "metadata": {
  "kernelspec": {
   "display_name": "Python 3",
   "language": "python",
   "name": "python3"
  },
  "language_info": {
   "codemirror_mode": {
    "name": "ipython",
    "version": 3
   },
   "file_extension": ".py",
   "mimetype": "text/x-python",
   "name": "python",
   "nbconvert_exporter": "python",
   "pygments_lexer": "ipython3",
   "version": "3.7.1"
  }
 },
 "nbformat": 4,
 "nbformat_minor": 2
}
