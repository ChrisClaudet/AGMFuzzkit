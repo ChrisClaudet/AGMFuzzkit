{
 "cells": [
  {
   "cell_type": "code",
   "execution_count": 1,
   "metadata": {},
   "outputs": [],
   "source": [
    "import networkx as nx\n",
    "G = nx.Graph()"
   ]
  },
  {
   "cell_type": "code",
   "execution_count": 2,
   "metadata": {},
   "outputs": [],
   "source": [
    "import collections"
   ]
  },
  {
   "cell_type": "code",
   "execution_count": 3,
   "metadata": {},
   "outputs": [],
   "source": [
    "with open('BabyFlightNodes.txt', mode='r') as BabyFlightNodes:\n",
    "    FlightEdges = BabyFlightNodes.read().split(\"%SECTION%\")[2]\n",
    "with open('BabyFlightNodes.txt', mode='r') as BabyFlightNodes:\n",
    "    FlightNodes = BabyFlightNodes.read().split(\"%SECTION%\")[1]"
   ]
  },
  {
   "cell_type": "code",
   "execution_count": 4,
   "metadata": {},
   "outputs": [],
   "source": [
    "def GetTaxiway(FlightNodes, FlightEdges):\n",
    "    '''\n",
    "    Gets the Taxiway from Raw Data files showing the nodes and edges in Tuples\n",
    "    '''\n",
    "    FlightNodesCoords = list(FlightNodes.split(\"\\n\")[3:-1])\n",
    "    FlightEdgesCoords = list(FlightEdges.split(\"\\n\")[3:])\n",
    "    \n",
    "    NodeID = []\n",
    "    NodeXCoords = []\n",
    "    NodeYCoords = []\n",
    "    NodeLon = []\n",
    "    NodeLat = []\n",
    "    NodeName = []\n",
    "    NodeType = []\n",
    "    \n",
    "    for item in FlightNodesCoords:\n",
    "        if item == []:\n",
    "            pass\n",
    "        else:\n",
    "            ItemSplit = list(item.split(\";\")[0:-1])\n",
    "              \n",
    "            NodeID.append(ItemSplit[1])\n",
    "            NodeXCoords.append(ItemSplit[2])\n",
    "            NodeYCoords.append(ItemSplit[3])\n",
    "            NodeLat.append(ItemSplit[4])\n",
    "            NodeLon.append(ItemSplit[5])\n",
    "            NodeName.append(ItemSplit[6])\n",
    "            NodeType.append(ItemSplit[7])\n",
    "        \n",
    "    FlightNodesList = list(zip(NodeID, NodeLat, NodeLon, NodeName, NodeType))\n",
    "    \n",
    "    EdgeID = [] \n",
    "    EdgeStart = [] \n",
    "    EdgeEnd = [] \n",
    "    EdgeDirected = [] \n",
    "    EdgeLength = [] \n",
    "    EdgeSpecification = [] \n",
    "    EdgeTraversalTime = [] \n",
    "    EdgeName = [] \n",
    "    \n",
    "    for item in FlightEdgesCoords:\n",
    "        \n",
    "        if item == []:\n",
    "            pass\n",
    "        else:\n",
    "            ItemSplit = list(item.split(\";\"))\n",
    "            \n",
    "            EdgeID.append(ItemSplit[1])\n",
    "            EdgeStart.append(ItemSplit[2])\n",
    "            EdgeEnd.append(ItemSplit[3])\n",
    "            EdgeDirected.append(ItemSplit[4])\n",
    "            EdgeLength.append(ItemSplit[5])\n",
    "            EdgeSpecification.append(ItemSplit[6])\n",
    "            EdgeTraversalTime.append(ItemSplit[7])\n",
    "            EdgeName.append(ItemSplit[8])\n",
    "    \n",
    "    FlightEdgesList = list(zip(EdgeID, EdgeStart, EdgeEnd, EdgeDirected, EdgeLength, EdgeSpecification, EdgeName))\n",
    "    FlightEdgesWeights = list(zip(EdgeID, EdgeStart, EdgeEnd, EdgeLength))\n",
    "    \n",
    "    return (FlightNodesList, FlightEdgesList, FlightEdgesWeights)"
   ]
  },
  {
   "cell_type": "code",
   "execution_count": 5,
   "metadata": {},
   "outputs": [],
   "source": [
    "FlightNodesList = GetTaxiway(FlightNodes, FlightEdges)[0]\n",
    "FlightEdgesList = GetTaxiway(FlightNodes, FlightEdges)[1]\n",
    "FlightEdgesWeights = GetTaxiway(FlightNodes, FlightEdges)[2]"
   ]
  },
  {
   "cell_type": "code",
   "execution_count": 6,
   "metadata": {},
   "outputs": [],
   "source": [
    "#This will unpack each tuple to call any information about the list of Edges and Nodes\n",
    "def GetEdgeID(FlightEdgesList):\n",
    "    return [x[0] for x in FlightEdgesList]\n",
    "\n",
    "def GetEdgeStart(FlightEdgesList, FlightNodesList):\n",
    "    FlightEdgesStartNodes = [x[1] for x in FlightEdgesList]\n",
    "    index = 0\n",
    "    EdgeStartPoint = []\n",
    "    for item in [x[1] for x in FlightEdgesList]:\n",
    "        counter = 0\n",
    "        for value in [x[0] for x in FlightNodesList]:\n",
    "        \n",
    "            if item == value:\n",
    "                EdgeStartPoint.append((FlightNodesList[counter][1], FlightNodesList[counter][2]))\n",
    "            counter += 1\n",
    "        index += 1\n",
    "    return (EdgeStartPoint)\n",
    "\n",
    "def GetEdgeEnd(FlightEdgesList, FlightNodesList):\n",
    "    FlightEdgesEndNodes = [x[2] for x in FlightEdgesList]\n",
    "    index = 0\n",
    "    EdgeEndPoint = []\n",
    "    for item in [x[2] for x in FlightEdgesList]:\n",
    "        counter = 0\n",
    "        for value in [x[0] for x in FlightNodesList]:\n",
    "        \n",
    "            if item == value:\n",
    "                EdgeEndPoint.append((FlightNodesList[counter][1], FlightNodesList[counter][2]))\n",
    "            counter += 1\n",
    "        index += 1\n",
    "    return (EdgeEndPoint)\n",
    "\n",
    "def GetEdgeLength(FlightEdgesList):\n",
    "    return [x[4] for x in FlightEdgesList]\n",
    "\n",
    "def GetEdgeSpecification(FlightEdgesList):\n",
    "    return [x[5] for x in FlightEdgesList]\n"
   ]
  },
  {
   "cell_type": "code",
   "execution_count": 7,
   "metadata": {},
   "outputs": [
    {
     "data": {
      "text/plain": [
       "[('8.0', '30.0'),\n",
       " ('12.0', '23.0'),\n",
       " ('17.0', '19.0'),\n",
       " ('24.0', '18.0'),\n",
       " ('27.0', '18.0'),\n",
       " ('38.0', '18.0'),\n",
       " ('42.0', '19,0'),\n",
       " ('44.0', '22.0'),\n",
       " ('27.0', '18.0'),\n",
       " ('28.0', '23.0'),\n",
       " ('33.0', '27.0'),\n",
       " ('35.0', '28.0'),\n",
       " ('39.0', '30.0'),\n",
       " ('45.0', '29.0')]"
      ]
     },
     "execution_count": 7,
     "metadata": {},
     "output_type": "execute_result"
    }
   ],
   "source": [
    "GetEdgeStart(FlightEdgesList, FlightNodesList)"
   ]
  },
  {
   "cell_type": "code",
   "execution_count": 8,
   "metadata": {},
   "outputs": [
    {
     "data": {
      "text/plain": [
       "['1', '2', '3', '4', '5', '6', '7', '8', '5', '9', '10', '11', '12', '13']"
      ]
     },
     "execution_count": 8,
     "metadata": {},
     "output_type": "execute_result"
    }
   ],
   "source": [
    "[x[1] for x in FlightEdgesList]"
   ]
  },
  {
   "cell_type": "code",
   "execution_count": 9,
   "metadata": {},
   "outputs": [],
   "source": [
    "#Now that we have our data in Tuples, we can start making the Node Map with dictionaries\n",
    "\n",
    "def GetNodes(FlightNodes, FlightEdges):\n",
    "    '''\n",
    "    This should make the Nodes with edges connected on a Graph in a dictionary\n",
    "    '''\n",
    "    Graph = {}\n",
    "    for item in FlightNodes:\n",
    "        Graph[item[0]] = []\n",
    "        \n",
    "    for item in FlightEdges:\n",
    "        \n",
    "        if item[1] in Graph.keys():\n",
    "            Graph[item[1]].append(item[2])\n",
    "        if item[2] in Graph.keys():\n",
    "            Graph[item[2]].append(item[1])\n",
    "    \n",
    "    return (Graph)"
   ]
  },
  {
   "cell_type": "code",
   "execution_count": 10,
   "metadata": {},
   "outputs": [
    {
     "data": {
      "text/plain": [
       "{'1': ['2'],\n",
       " '2': ['1', '3'],\n",
       " '3': ['2', '4'],\n",
       " '4': ['3', '5'],\n",
       " '5': ['4', '6', '9'],\n",
       " '6': ['5', '7'],\n",
       " '7': ['6', '8'],\n",
       " '8': ['7', '13'],\n",
       " '9': ['5', '10'],\n",
       " '10': ['9', '11'],\n",
       " '11': ['10', '12'],\n",
       " '12': ['11', '13'],\n",
       " '13': ['8', '12', '14'],\n",
       " '14': ['13']}"
      ]
     },
     "execution_count": 10,
     "metadata": {},
     "output_type": "execute_result"
    }
   ],
   "source": [
    "BabyFlightLinks = GetNodes(FlightNodesList, FlightEdgesList)\n",
    "BabyFlightLinks"
   ]
  }
 ],
 "metadata": {
  "kernelspec": {
   "display_name": "Python 3",
   "language": "python",
   "name": "python3"
  },
  "language_info": {
   "codemirror_mode": {
    "name": "ipython",
    "version": 3
   },
   "file_extension": ".py",
   "mimetype": "text/x-python",
   "name": "python",
   "nbconvert_exporter": "python",
   "pygments_lexer": "ipython3",
   "version": "3.7.1"
  }
 },
 "nbformat": 4,
 "nbformat_minor": 2
}
