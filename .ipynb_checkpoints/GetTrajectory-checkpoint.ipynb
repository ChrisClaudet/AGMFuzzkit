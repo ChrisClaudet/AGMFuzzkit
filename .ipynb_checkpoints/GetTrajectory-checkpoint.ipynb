{
 "cells": [
  {
   "cell_type": "code",
   "execution_count": 1,
   "metadata": {},
   "outputs": [],
   "source": [
    "from math import radians, cos, sin, asin, sqrt"
   ]
  },
  {
   "cell_type": "code",
   "execution_count": 23,
   "metadata": {},
   "outputs": [],
   "source": [
    "#This makes RawTrajectory the raw input file with all useless info included\n",
    "with open('BabyFlight.txt', mode='r') as BabyFlight:\n",
    "    Flight1 = BabyFlight.read().split(\"\\n\")[1]"
   ]
  },
  {
   "cell_type": "code",
   "execution_count": 24,
   "metadata": {},
   "outputs": [],
   "source": [
    "#Get GPS Trajectory Coordinates at the bottom\n",
    "def GetTrajectory(Flight):\n",
    "    '''This gets the GPS coordinates of the flight Trajectory and assigns values to variables'''\n",
    "    FlightLines = list(Flight.split(\"\\t\"))\n",
    "    if len(list(FlightLines[-2].split(\" \")[0].split(\",\"))) < 3:\n",
    "        RawTrajectory = list(FlightLines[-1].split(\" \")[0].split(\",\"))\n",
    "    else:\n",
    "        RawTrajectory = list(FlightLines[-2].split(\" \")[0].split(\",\"))\n",
    "    \n",
    "    XCoords = []\n",
    "    YCoords = []\n",
    "    counter = 0\n",
    "    for value in RawTrajectory:\n",
    "        counter += 1\n",
    "        if counter == 1:\n",
    "            XCoords.append(value)\n",
    "        if counter == 2:\n",
    "            YCoords.append(value)\n",
    "        if counter == 3:\n",
    "            pass\n",
    "        if counter == 4:\n",
    "            counter = 0\n",
    "    \n",
    "    return list(zip(XCoords,YCoords))\n",
    "    "
   ]
  },
  {
   "cell_type": "code",
   "execution_count": 25,
   "metadata": {},
   "outputs": [
    {
     "data": {
      "text/plain": [
       "[('12.0', '29.0'),\n",
       " ('16.0', '23.0'),\n",
       " ('21.0', '20.0'),\n",
       " ('24.0', '21.0'),\n",
       " ('30.0', '20.0'),\n",
       " ('31.0', '24.0'),\n",
       " ('32.0', '30.0'),\n",
       " ('36.0', '31.0'),\n",
       " ('42.0', '32.0'),\n",
       " ('49.0', '32.0')]"
      ]
     },
     "execution_count": 25,
     "metadata": {},
     "output_type": "execute_result"
    }
   ],
   "source": [
    "GetTrajectory(Flight1)"
   ]
  },
  {
   "cell_type": "code",
   "execution_count": null,
   "metadata": {},
   "outputs": [],
   "source": []
  }
 ],
 "metadata": {
  "kernelspec": {
   "display_name": "Python 3",
   "language": "python",
   "name": "python3"
  },
  "language_info": {
   "codemirror_mode": {
    "name": "ipython",
    "version": 3
   },
   "file_extension": ".py",
   "mimetype": "text/x-python",
   "name": "python",
   "nbconvert_exporter": "python",
   "pygments_lexer": "ipython3",
   "version": "3.7.1"
  }
 },
 "nbformat": 4,
 "nbformat_minor": 2
}
