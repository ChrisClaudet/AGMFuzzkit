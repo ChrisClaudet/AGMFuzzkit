{
 "cells": [
  {
   "cell_type": "code",
   "execution_count": 1,
   "metadata": {},
   "outputs": [],
   "source": [
    "#Get the perpendicular distance from an edge to a Trajectory coordinate"
   ]
  },
  {
   "cell_type": "code",
   "execution_count": null,
   "metadata": {},
   "outputs": [],
   "source": []
  },
  {
   "cell_type": "code",
   "execution_count": 6,
   "metadata": {},
   "outputs": [],
   "source": [
    "def NearestPointOnLine(PointX, PointY, StartX, StartY, EndX, EndY):\n",
    "    #Equation of the Edge line\n",
    "    mLine = (EndY - StartY)/(EndX - StartX)\n",
    "    cLine = (PointY) - (mLine*StartX)\n",
    "    \n",
    "    #Equation of Edge line to Trajectory point\n",
    "    mLineT = (-1/mLine)\n",
    "    cLineT = PointY - (mLineT*PointX)\n",
    "    \n",
    "    #Get Intersection of lines\n",
    "    IntX = (cLine - cLineT)/(mLineT - mLine)\n",
    "    IntY = (mLineT * IntX) + cLineT\n",
    "    \n",
    "    return (IntX, IntY)"
   ]
  },
  {
   "cell_type": "code",
   "execution_count": null,
   "metadata": {},
   "outputs": [],
   "source": []
  },
  {
   "cell_type": "code",
   "execution_count": 7,
   "metadata": {},
   "outputs": [],
   "source": [
    "def GetPerpendicularDistance(PointX, PointY, IntX, IntY):\n",
    "    DistanceX = PointX - IntX\n",
    "    DistanceY = PointY - IntY\n",
    "    Magnitude = ((DistanceX**2)+(DistanceY**2))**(1/2)\n",
    "    return Magnitude\n"
   ]
  },
  {
   "cell_type": "code",
   "execution_count": 8,
   "metadata": {},
   "outputs": [],
   "source": [
    "#GetPerpendicularDistance(PointX, PointY, IntX, IntY)"
   ]
  },
  {
   "cell_type": "code",
   "execution_count": null,
   "metadata": {},
   "outputs": [],
   "source": []
  }
 ],
 "metadata": {
  "kernelspec": {
   "display_name": "Python 3",
   "language": "python",
   "name": "python3"
  },
  "language_info": {
   "codemirror_mode": {
    "name": "ipython",
    "version": 3
   },
   "file_extension": ".py",
   "mimetype": "text/x-python",
   "name": "python",
   "nbconvert_exporter": "python",
   "pygments_lexer": "ipython3",
   "version": "3.7.1"
  }
 },
 "nbformat": 4,
 "nbformat_minor": 2
}
