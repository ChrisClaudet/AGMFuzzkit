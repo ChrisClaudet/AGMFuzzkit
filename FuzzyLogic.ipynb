{
 "cells": [
  {
   "cell_type": "code",
   "execution_count": 1,
   "metadata": {},
   "outputs": [],
   "source": [
    "import skfuzzy as fuzz"
   ]
  },
  {
   "cell_type": "code",
   "execution_count": 2,
   "metadata": {},
   "outputs": [],
   "source": [
    "import numpy as np"
   ]
  },
  {
   "cell_type": "code",
   "execution_count": 3,
   "metadata": {},
   "outputs": [],
   "source": [
    "from skfuzzy import control as ctrl"
   ]
  },
  {
   "cell_type": "code",
   "execution_count": 4,
   "metadata": {},
   "outputs": [],
   "source": [
    "import matplotlib.pyplot as plt"
   ]
  },
  {
   "cell_type": "markdown",
   "metadata": {},
   "source": [
    "Functions\n",
    "HeadingError = ctrl.Antecedent(np.arange(0, 301, 1), 'HeadingError')\n",
    "HeadingIncrement = ctrl.Antecedent(np.arange(0, 41, 1), 'HeadingIncrement')\n",
    "DeltaDistance = ctrl.Antecedent(np.arange(-25, 21, 1), 'DeltaDistance')\n",
    "Alpha = ctrl.Antecedent(np.arange(0, 201, 1), 'Alpha')\n",
    "Beta = ctrl.Antecedent(np.arange(0, 201, 1), 'Beta')"
   ]
  },
  {
   "cell_type": "code",
   "execution_count": 5,
   "metadata": {},
   "outputs": [],
   "source": [
    "#HeadingError['HeadingError=180'] = fuzz.gauss2mf(HeadingError.universe)"
   ]
  },
  {
   "cell_type": "code",
   "execution_count": 13,
   "metadata": {},
   "outputs": [],
   "source": [
    "x = np.arange(0, 2, 0.1)\n",
    "mfx = fuzz.trimf(x, [0, 1, 2])\n",
    "\n",
    "# Defuzzify this membership function five ways\n",
    "defuzz_centroid = fuzz.defuzz(x, mfx, 'centroid')  # Same as skfuzzy.centroid\n",
    "defuzz_bisector = fuzz.defuzz(x, mfx, 'bisector')\n",
    "defuzz_mom = fuzz.defuzz(x, mfx, 'mom')\n",
    "defuzz_som = fuzz.defuzz(x, mfx, 'som')\n",
    "defuzz_lom = fuzz.defuzz(x, mfx, 'lom')\n",
    "\n",
    "# Collect info for vertical lines\n",
    "labels = ['centroid', 'bisector', 'mean of maximum', 'min of maximum',\n",
    "          'max of maximum']\n",
    "#xvals = [defuzz_centroid,\n",
    "         #defuzz_bisector,\n",
    "         #defuzz_mom,\n",
    "         #defuzz_som,\n",
    "         #defuzz_lom]\n",
    "xvals = [0.2, 0.5, 0.3, 0.7, 0]\n",
    "colors = ['r', 'b', 'g', 'c', 'm']\n",
    "ymax = [fuzz.interp_membership(x, mfx, i) for i in xvals]"
   ]
  },
  {
   "cell_type": "code",
   "execution_count": 14,
   "metadata": {},
   "outputs": [
    {
     "data": {
      "text/plain": [
       "[0.2, 0.5, 0.3, 0.7, 0.0]"
      ]
     },
     "execution_count": 14,
     "metadata": {},
     "output_type": "execute_result"
    }
   ],
   "source": [
    "ymax"
   ]
  },
  {
   "cell_type": "code",
   "execution_count": 15,
   "metadata": {},
   "outputs": [
    {
     "data": {
      "text/plain": [
       "array([0. , 0.1, 0.2, 0.3, 0.4, 0.5, 0.6, 0.7, 0.8, 0.9, 1. , 1.1, 1.2,\n",
       "       1.3, 1.4, 1.5, 1.6, 1.7, 1.8, 1.9])"
      ]
     },
     "execution_count": 15,
     "metadata": {},
     "output_type": "execute_result"
    }
   ],
   "source": [
    "x"
   ]
  },
  {
   "cell_type": "code",
   "execution_count": 16,
   "metadata": {},
   "outputs": [
    {
     "data": {
      "image/png": "[encoded data removed]",
      "text/plain": [
       "<Figure size 576x360 with 1 Axes>"
      ]
     },
     "metadata": {
      "needs_background": "light"
     },
     "output_type": "display_data"
    }
   ],
   "source": [
    "# Display and compare defuzzification results against membership function\n",
    "plt.figure(figsize=(8, 5))\n",
    "\n",
    "plt.plot(x, mfx, 'k')\n",
    "for xv, y, label, color in zip(xvals, ymax, labels, colors):\n",
    "    plt.vlines(xv, 0, y, label=label, color=color)\n",
    "plt.ylabel('Fuzzy membership')\n",
    "plt.xlabel('Universe variable (arb)')\n",
    "plt.ylim(-0.1, 1.1)\n",
    "plt.legend(loc=2)\n",
    "\n",
    "plt.show()"
   ]
  },
  {
   "cell_type": "code",
   "execution_count": null,
   "metadata": {},
   "outputs": [],
   "source": [
    "HeadingError = 186.66692802828314\n",
    "HeadingIncrement = 186.66692802828314\n",
    "DeltaDistance = -0.00227030849783238\n",
    "Alpha = 5.107813821604594\n",
    "Beta = 143.1254499029909\n",
    "\n",
    "def SMP1FuzzyLogic(HeadingError, HeadingIncrement, DeltaDistance, Alpha, Beta):\n",
    "    '''\n",
    "    Gives a crisp output from previous edge and current point inputs: These are explained in their functions.\n",
    "    The crisp output is used to determine whether or not a current point is matched with the previous edge.\n",
    "    '''\n",
    "    #Fuzzy Logic: Following an Edge\n",
    "    #Sugeno outputs used for defuzzification\n",
    "    Z1 = 10\n",
    "    Z2 = 50\n",
    "    Z3 = 100\n",
    "\n",
    "    #Inputs\n",
    "\n",
    "\n",
    "    #Function X ranges (Start, Finish-1, Not-sure?)\n",
    "    x_HeadingError = np.arange(0, 301, 0.1)\n",
    "    x_HeadingIncrement = np.arange(0, 41, 0.1)\n",
    "    x_DeltaDistance = np.arange(-25, 21, 0.1)\n",
    "    x_Alpha = np.arange(0, 201, 0.1)\n",
    "    x_Beta = np.arange(0, 201, 0.1)\n",
    "    #Membership function equations\n",
    "    mfx_HeadingError = fuzz.gauss2mf(x_HeadingError, 155, 21.8, 200, 22.5)\n",
    "    mfx_HeadingIncrementLow = fuzz.gauss2mf(x_HeadingIncrement, -3.27, 13.6 ,11.27, 3.54)\n",
    "    mfx_HeadingIncrementHigh = fuzz.gauss2mf(x_HeadingIncrement, 29.3, 5.002, 44, 13.6)\n",
    "    mfx_DeltaDistanceNegative = fuzz.gauss2mf(x_DeltaDistance, -29.5, 15.3, -3.142, 2.625)\n",
    "    mfx_DeltaDistancePositive = fuzz.gauss2mf(x_DeltaDistance, 3.647, 2.967, 24.5, 15.3)\n",
    "    mfx_AlphaBelow90Degrees = fuzz.gauss2mf(x_Alpha, -20.8, 68, 88.78, 3.99)\n",
    "    mfx_AlphaAbove90Degrees = fuzz.gauss2mf(x_Alpha, 109.4, 6.97, 220, 67.9)\n",
    "    mfx_BetaBelow90Degrees = fuzz.gauss2mf(x_Beta, -20.8, 68, 88.78, 3.99)\n",
    "    mfx_BetaAbove90Degrees = fuzz.gauss2mf(x_Beta, 109.4, 6.97, 220, 67.9)\n",
    "    #Gets the membership function fuzzy output ready for defuzzification\n",
    "    ymax_HeadingError180 = [fuzz.interp_membership(x_HeadingError, mfx_HeadingError, HeadingError)]\n",
    "    ymax_HeadingIncrementLow = [fuzz.interp_membership(x_HeadingIncrement, mfx_HeadingIncrementLow, HeadingIncrement)]\n",
    "    ymax_HeadingIncrementHigh = [fuzz.interp_membership(x_HeadingIncrement, mfx_HeadingIncrementHigh, HeadingIncrement)]\n",
    "    ymax_DeltaDistanceNegative = [fuzz.interp_membership(x_DeltaDistance, mfx_DeltaDistanceNegative, DeltaDistance)]\n",
    "    ymax_DeltaDistancePositive = [fuzz.interp_membership(x_DeltaDistance, mfx_DeltaDistancePositive, DeltaDistance)]\n",
    "    ymax_AlphaBelow90Degrees = [fuzz.interp_membership(x_Alpha, mfx_AlphaBelow90Degrees, Alpha)]\n",
    "    ymax_AlphaAbove90Degrees = [fuzz.interp_membership(x_Alpha, mfx_AlphaAbove90Degrees, Alpha)]\n",
    "    ymax_BetaBelow90Degrees = [fuzz.interp_membership(x_Beta, mfx_BetaBelow90Degrees, Beta)]\n",
    "    ymax_BetaAbove90Degrees = [fuzz.interp_membership(x_Beta, mfx_BetaAbove90Degrees, Beta)]\n",
    "    \n",
    "    #Fuzzy Rules\n",
    "    #1: If Alpha is Below90Degrees and Beta is Below90Degrees then Z = Z3 (High)\n",
    "    R1 = (ymax_AlphaBelow90Degrees[0]*ymax_BetaBelow90Degrees[0]*Z3*0.3)\n",
    "    w1 = (ymax_AlphaBelow90Degrees[0]*ymax_BetaBelow90Degrees[0])\n",
    "    #2: If DeltaDistance is Positive and Alpha is Above90Degrees then Z = Z1 (Low)\n",
    "    R2 = (ymax_DeltaDistancePositive[0]*ymax_AlphaAbove90Degrees[0]*Z1*0.3)\n",
    "    w2 = (ymax_DeltaDistancePositive[0]*ymax_AlphaAbove90Degrees[0])\n",
    "    #3: If DeltaDistance is Positive and Beta is Above90Degrees then Z = Z1 (Low)\n",
    "    R3 = (ymax_DeltaDistancePositive[0]*ymax_BetaAbove90Degrees[0]*Z1*0.3)\n",
    "    w3 = (ymax_DeltaDistancePositive[0]*ymax_BetaAbove90Degrees[0])\n",
    "    #4: If HeadingIncrement is Low and Alpha is Below90Degrees and Beta is Below90Degrees then Z = Z3 (High)\n",
    "    R4 = (ymax_HeadingIncrementLow[0]*ymax_AlphaBelow90Degrees[0]*ymax_BetaBelow90Degrees[0]*Z3*1)\n",
    "    w4 = (ymax_HeadingIncrementLow[0]*ymax_AlphaBelow90Degrees[0]*ymax_BetaBelow90Degrees[0])\n",
    "    #5: If HeadingIncrement is Low and DeltaDistance is Positive and Alpha is Above90Degrees then Z = Z1 (Low)\n",
    "    R5 = (ymax_HeadingIncrementLow[0]*ymax_DeltaDistancePositive[0]*ymax_AlphaAbove90Degrees[0]*Z1*1)\n",
    "    w5 = (ymax_HeadingIncrementLow[0]*ymax_DeltaDistancePositive[0]*ymax_AlphaAbove90Degrees[0])\n",
    "    #6: If HeadingIncrement is Low and DeltaDistance is Positive and Beta is Above90Degrees then Z = Z1 (Low)\n",
    "    R6 = (ymax_HeadingIncrementLow[0]*ymax_DeltaDistancePositive[0]*ymax_BetaAbove90Degrees[0]*Z1*1)\n",
    "    w6 = (ymax_HeadingIncrementLow[0]*ymax_DeltaDistancePositive[0]*ymax_BetaAbove90Degrees[0])\n",
    "    #7: If Alpha is Below90Degrees and Beta is Below90Degrees then Z = Z3 (High)\n",
    "    R7 = (ymax_AlphaBelow90Degrees[0]*ymax_BetaBelow90Degrees[0]*Z3*0.3)\n",
    "    w7 = (ymax_AlphaBelow90Degrees[0]*ymax_BetaBelow90Degrees[0])\n",
    "    #8: If HeadingIncrement is High and Alpha is Below90Degrees and Beta is Below90Degrees then Z = Z1 (Low)\n",
    "    R8 = (ymax_HeadingIncrementHigh[0]*ymax_AlphaBelow90Degrees[0]*ymax_BetaBelow90Degrees[0]*Z1*1)\n",
    "    w8 = (ymax_HeadingIncrementHigh[0]*ymax_AlphaBelow90Degrees[0]*ymax_BetaBelow90Degrees[0])\n",
    "    #9: If Heading Error is 180 degrees then Z = Z3 (High)\n",
    "    R9 = (ymax_HeadingError180[0]*Z3*1)\n",
    "    w9 = ymax_HeadingError180[0]\n",
    "    \n",
    "    Z = R1+R2+R3+R4+R5+R6+R7+R8+R9\n",
    "    W = w1+w2+w3+w4+w5+w6+w7+w8+w9\n",
    "    SMP1 = Z/W\n",
    "    \n",
    "    return(SMP1)"
   ]
  },
  {
   "cell_type": "code",
   "execution_count": null,
   "metadata": {},
   "outputs": [],
   "source": []
  },
  {
   "cell_type": "code",
   "execution_count": null,
   "metadata": {},
   "outputs": [],
   "source": [
    "SMP1FuzzyLogic(24.882902575051325, 24.882902575051325, 0.13439760921962765, 21.3466554489976275, 0.03951604462906744)"
   ]
  },
  {
   "cell_type": "code",
   "execution_count": 19,
   "metadata": {},
   "outputs": [],
   "source": [
    "def SMP2FuzzyLogic(Connectivity, DistanceError):\n",
    "    '''\n",
    "    Gives a crisp output from previous edge and current point inputs: These are explained in their functions. \n",
    "    '''\n",
    "    #Fuzzy Logic: Choosing a junction\n",
    "    #Sugeno outputs used for defuzzification\n",
    "    Z1 = 10\n",
    "    Z2 = 50\n",
    "    Z3 = 100\n",
    "\n",
    "    #Inputs\n",
    "\n",
    "    #Function X ranges (Start, Finish-1, Iteration?)\n",
    "    x_Connectivity = np.arange(0, 2, 0.1)\n",
    "    x_DistanceError = np.arange(0, 31, 0.1)\n",
    "    #Membership function equations\n",
    "    mfx_ConnectivityDirectConnection = fuzz.trimf(x_Connectivity, 0, 1, 2)\n",
    "    mfx_ConnectivityNoDirectConnection = fuzz.trimf(x_Connectivity, -1, 0 ,1)\n",
    "    mfx_DistanceErrorSmall = fuzz.gauss2mf(x_DistanceError, -3, 10.2, 5.069, 3.5)\n",
    "    mfx_DistanceErrorLarge = fuzz.gauss2mf(x_DistanceError, 24.8, 4.95, 33, 10.2)\n",
    "    #Gets the membership function fuzzy output ready for defuzzification\n",
    "    ymax_ConnectivityDirectConnection = [fuzz.interp_membership(x_Connectivity, mfx_ConnectivityDirectConnection, Connectivity)]\n",
    "    ymax_ConnectivityNoDirectConnection = [fuzz.interp_membership(x_Connectivity, mfx_ConnectivityNoDirectConnection, Connectivity)]\n",
    "    ymax_DistanceErrorSmall = [fuzz.interp_membership(x_DistanceError, mfx_DistanceErrorSmall, DistanceError)]\n",
    "    ymax_DistanceErrorLarge = [fuzz.interp_membership(x_DistanceError, mfx_DistanceErrorLarge, DistanceError)]\n",
    "    #Fuzzy Rules\n",
    "    #1: If the Connectivity is low then Z = Z1 (Low)\n",
    "    F1 = (ymax_ConnectivityNoDirectConnection[0]*Z1)\n",
    "    u1 = ymax_ConnectivityNoDirectConnection[0]\n",
    "    #2: If the Connectivity is high then Z = Z3 (High)\n",
    "    F2 = (ymax_ConnectivityDirectConnection[0]*Z3)\n",
    "    u2 = ymax_ConnectivityDirectConnection[0]\n",
    "    #3: If the DistanceError is small then Z = Z3 (High)\n",
    "    F3 = (ymax_DistanceErrorSmall[0]*Z3)\n",
    "    u3 = ymax_DistanceErrorSmall[0]\n",
    "    #4: If the DistanceError is large then Z = Z1 (Low)\n",
    "    F4 = (ymax_DistanceErrorLarge[0]*Z1)\n",
    "    u4 = ymax_DistanceErrorLarge[0]\n",
    "\n",
    "    F = F1+F2+F3+F4\n",
    "    U = u1+u2+u3+u4\n",
    "\n",
    "    SMP2 = F/U\n",
    "    \n",
    "    return(SMP2)\n",
    "\n"
   ]
  },
  {
   "cell_type": "code",
   "execution_count": null,
   "metadata": {
    "scrolled": true
   },
   "outputs": [],
   "source": []
  },
  {
   "cell_type": "code",
   "execution_count": null,
   "metadata": {},
   "outputs": [],
   "source": []
  }
 ],
 "metadata": {
  "kernelspec": {
   "display_name": "Python 3",
   "language": "python",
   "name": "python3"
  },
  "language_info": {
   "codemirror_mode": {
    "name": "ipython",
    "version": 3
   },
   "file_extension": ".py",
   "mimetype": "text/x-python",
   "name": "python",
   "nbconvert_exporter": "python",
   "pygments_lexer": "ipython3",
   "version": "3.7.1"
  }
 },
 "nbformat": 4,
 "nbformat_minor": 2
}
