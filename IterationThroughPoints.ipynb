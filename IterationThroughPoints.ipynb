{
 "cells": [
  {
   "cell_type": "code",
   "execution_count": 1,
   "metadata": {},
   "outputs": [],
   "source": [
    "with open('BabyFlightNodes.txt', mode='r') as BabyFlightNodes:\n",
    "    FlightEdges = BabyFlightNodes.read().split(\"%SECTION%\")[2]\n",
    "with open('BabyFlightNodes.txt', mode='r') as BabyFlightNodes:\n",
    "    FlightNodes = BabyFlightNodes.read().split(\"%SECTION%\")[1]"
   ]
  },
  {
   "cell_type": "code",
   "execution_count": 2,
   "metadata": {},
   "outputs": [],
   "source": [
    "with open('BabyFlight.txt', mode='r') as BabyFlight:\n",
    "    Flight1 = BabyFlight.read().split(\"\\n\")[1]"
   ]
  },
  {
   "cell_type": "code",
   "execution_count": 3,
   "metadata": {},
   "outputs": [],
   "source": [
    "from ipynb.fs.full.GetTrajectory import GetTrajectory\n",
    "from ipynb.fs.full.PerpendicularDistance import NearestPointOnLine\n",
    "from ipynb.fs.full.PerpendicularDistance import GetPerpendicularDistance\n",
    "from ipynb.fs.full.PerpendicularDistance import EdgeNeighborSearch"
   ]
  },
  {
   "cell_type": "code",
   "execution_count": 4,
   "metadata": {},
   "outputs": [],
   "source": [
    "FlightTrajectoryNodes = GetTrajectory(Flight1)"
   ]
  },
  {
   "cell_type": "code",
   "execution_count": 5,
   "metadata": {},
   "outputs": [],
   "source": [
    "from ipynb.fs.full.GetTaxiway import GetTaxiway\n",
    "from ipynb.fs.full.GetTaxiway import GetEdgeID\n",
    "from ipynb.fs.full.GetTaxiway import GetEdgeStart\n",
    "from ipynb.fs.full.GetTaxiway import GetEdgeEnd\n",
    "from ipynb.fs.full.GetTaxiway import GetEdgeLength\n",
    "from ipynb.fs.full.GetTaxiway import GetEdgeSpecification"
   ]
  },
  {
   "cell_type": "code",
   "execution_count": 6,
   "metadata": {},
   "outputs": [],
   "source": [
    "FlightNodesList = GetTaxiway(FlightNodes, FlightEdges)[0]\n",
    "FlightEdgesList = GetTaxiway(FlightNodes, FlightEdges)[1]\n",
    "FlightEdgesWeights = GetTaxiway(FlightNodes, FlightEdges)[2]"
   ]
  },
  {
   "cell_type": "code",
   "execution_count": 7,
   "metadata": {},
   "outputs": [
    {
     "data": {
      "text/plain": [
       "('2', '2', '3', '0', '6.40312424', 'taxiway', '')"
      ]
     },
     "execution_count": 7,
     "metadata": {},
     "output_type": "execute_result"
    }
   ],
   "source": [
    "FlightEdgesList[1]"
   ]
  },
  {
   "cell_type": "code",
   "execution_count": 10,
   "metadata": {},
   "outputs": [
    {
     "name": "stdout",
     "output_type": "stream",
     "text": [
      "('12.0', '29.0')\n",
      "0 1 8.0 30.0 12.0 23.0 (9.415384615384617, 27.523076923076925) 2.9768336301410003\n",
      "('16.0', '23.0')\n",
      "0 1 8.0 30.0 12.0 23.0 (12.984615384615386, 21.276923076923076) 3.472972568497836\n",
      "1 2 12.0 23.0 17.0 19.0 (14.439024390243905, 21.04878048780488) 2.498780190217694\n",
      "2 3 17.0 19.0 24.0 18.0 (15.459999999999999, 19.22) 3.818376618407358\n",
      "('21.0', '20.0')\n",
      "1 2 12.0 23.0 17.0 19.0 (18.951219512195124, 17.439024390243905) 3.2796489996607248\n",
      "2 3 17.0 19.0 24.0 18.0 (20.779999999999998, 18.45999999999998) 1.555634918610425\n",
      "3 4 24.0 18.0 27.0 18.0 (21.0, 18.0) 2.0\n",
      "('24.0', '21.0')\n",
      "2 3 17.0 19.0 24.0 18.0 (23.58, 18.060000000000002) 2.9698484809834977\n",
      "3 4 24.0 18.0 27.0 18.0 (24.0, 18.0) 3.0\n",
      "4 5 27.0 18.0 38.0 18.0 (24.0, 18.0) 3.0\n",
      "8 9 27.0 18.0 28.0 23.0 (27.461538461538463, 20.307692307692307) 3.530090432487315\n",
      "9 10 28.0 23.0 33.0 27.0 (24.58536585365854, 20.268292682926823) 0.9370425713316436\n",
      "('30.0', '20.0')\n",
      "3 4 24.0 18.0 27.0 18.0 (30.0, 18.0) 2.0\n",
      "4 5 27.0 18.0 38.0 18.0 (30.0, 18.0) 2.0\n",
      "8 9 27.0 18.0 28.0 23.0 (27.5, 20.5) 2.5495097567963922\n",
      "9 10 28.0 23.0 33.0 27.0 (27.756097560975615, 22.80487804878048) 3.5919965234379307\n",
      "('31.0', '24.0')\n",
      "8 9 27.0 18.0 28.0 23.0 (28.307692307692303, 24.53846153846154) 2.7456258919345813\n",
      "9 10 28.0 23.0 33.0 27.0 (30.317073170731714, 24.853658536585357) 1.0932163332202314\n",
      "10 11 33.0 27.0 35.0 28.0 (30.2, 25.6) 1.7888543819998333\n",
      "('32.0', '30.0')\n",
      "9 10 28.0 23.0 33.0 27.0 (33.85365853658537, 27.682926829268283) 2.9673014758835263\n",
      "10 11 33.0 27.0 35.0 28.0 (33.4, 27.200000000000003) 3.1304951684997024\n",
      "11 12 35.0 28.0 39.0 30.0 (33.4, 27.200000000000003) 3.1304951684997024\n",
      "('36.0', '31.0')\n",
      "9 10 28.0 23.0 33.0 27.0 (36.78048780487806, 30.02439024390243) 1.2493900951088595\n",
      "10 11 33.0 27.0 35.0 28.0 (37.0, 29.0) 2.23606797749979\n",
      "11 12 35.0 28.0 39.0 30.0 (37.0, 29.0) 2.23606797749979\n",
      "12 13 39.0 30.0 45.0 29.0 (35.91891891891892, 30.513513513513516) 0.49319696191606954\n",
      "('42.0', '32.0')\n",
      "7 8 44.0 22.0 45.0 29.0 (45.36, 31.52) 3.3941125496954276\n",
      "11 12 35.0 28.0 39.0 30.0 (42.2, 31.599999999999994) 0.4472135954999643\n",
      "12 13 39.0 30.0 45.0 29.0 (41.59459459459459, 29.56756756756755) 2.4659848095803767\n",
      "13 14 45.0 29.0 50.0 29.0 (42.0, 29.0) 3.0\n",
      "('49.0', '32.0')\n",
      "7 8 44.0 22.0 45.0 29.0 (45.5, 32.5) 3.5355339059327378\n",
      "12 13 39.0 30.0 45.0 29.0 (48.4054054054054, 28.432432432432392) 3.6167777207179\n",
      "13 14 45.0 29.0 50.0 29.0 (49.0, 29.0) 3.0\n"
     ]
    }
   ],
   "source": [
    "\n",
    "for item in FlightTrajectoryNodes:\n",
    "    print(item)\n",
    "    for index, edge in enumerate(FlightEdgesList):\n",
    "        EdgeID = GetEdgeID(FlightEdgesList)[index]\n",
    "        EdgeStart = GetEdgeStart(FlightEdgesList, FlightNodesList)[index]\n",
    "        EdgeEnd = GetEdgeEnd(FlightEdgesList, FlightNodesList)[index]\n",
    "        EdgeLength = GetEdgeLength(FlightEdgesList)[index]\n",
    "        EdgeType = GetEdgeSpecification(FlightEdgesList)[index]\n",
    "        \n",
    "        PointX = float(item[0])\n",
    "        PointY = float(item[1])\n",
    "        StartX = float(EdgeStart[0])\n",
    "        StartY = float(EdgeStart[1])\n",
    "        EndX = float(EdgeEnd[0])\n",
    "        EndY = float(EdgeEnd[1])\n",
    "        \n",
    "        if EdgeNeighborSearch(PointX, PointY, StartX, StartY, EndX, EndY, 5) == True:\n",
    "            \n",
    "            (IntX, IntY) = NearestPointOnLine(PointX, PointY, StartX, StartY, EndX, EndY)\n",
    "            PDistance = GetPerpendicularDistance(PointX, PointY, (IntX, IntY)[0], (IntX, IntY)[1])\n",
    "        \n",
    "            print(index, EdgeID, StartX, StartY, EndX, EndY, (IntX,IntY), PDistance)\n",
    "        else:\n",
    "            pass"
   ]
  },
  {
   "cell_type": "code",
   "execution_count": null,
   "metadata": {},
   "outputs": [],
   "source": []
  },
  {
   "cell_type": "code",
   "execution_count": null,
   "metadata": {},
   "outputs": [],
   "source": []
  }
 ],
 "metadata": {
  "kernelspec": {
   "display_name": "Python 3",
   "language": "python",
   "name": "python3"
  },
  "language_info": {
   "codemirror_mode": {
    "name": "ipython",
    "version": 3
   },
   "file_extension": ".py",
   "mimetype": "text/x-python",
   "name": "python",
   "nbconvert_exporter": "python",
   "pygments_lexer": "ipython3",
   "version": "3.7.1"
  }
 },
 "nbformat": 4,
 "nbformat_minor": 2
}
