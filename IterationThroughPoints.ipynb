{
 "cells": [
  {
   "cell_type": "code",
   "execution_count": 1,
   "metadata": {},
   "outputs": [],
   "source": [
    "with open('BabyFlightNodes.txt', mode='r') as BabyFlightNodes:\n",
    "    FlightEdges = BabyFlightNodes.read().split(\"%SECTION%\")[2]\n",
    "with open('BabyFlightNodes.txt', mode='r') as BabyFlightNodes:\n",
    "    FlightNodes = BabyFlightNodes.read().split(\"%SECTION%\")[1]"
   ]
  },
  {
   "cell_type": "code",
   "execution_count": 2,
   "metadata": {},
   "outputs": [],
   "source": [
    "with open('BabyFlight.txt', mode='r') as BabyFlight:\n",
    "    Flight1 = BabyFlight.read().split(\"\\n\")[1]"
   ]
  },
  {
   "cell_type": "code",
   "execution_count": 3,
   "metadata": {},
   "outputs": [],
   "source": [
    "from ipynb.fs.full.GetTrajectory import GetTrajectory\n",
    "from ipynb.fs.full.PerpendicularDistance import NearestPointOnLine\n",
    "from ipynb.fs.full.PerpendicularDistance import GetPerpendicularDistance"
   ]
  },
  {
   "cell_type": "code",
   "execution_count": 4,
   "metadata": {},
   "outputs": [],
   "source": [
    "FlightTrajectoryNodes = GetTrajectory(Flight1)"
   ]
  },
  {
   "cell_type": "code",
   "execution_count": 5,
   "metadata": {},
   "outputs": [],
   "source": [
    "from ipynb.fs.full.GetTaxiway import GetTaxiway\n",
    "from ipynb.fs.full.GetTaxiway import GetEdgeID\n",
    "from ipynb.fs.full.GetTaxiway import GetEdgeStart\n",
    "from ipynb.fs.full.GetTaxiway import GetEdgeEnd\n",
    "from ipynb.fs.full.GetTaxiway import GetEdgeLength\n",
    "from ipynb.fs.full.GetTaxiway import GetEdgeSpecification"
   ]
  },
  {
   "cell_type": "code",
   "execution_count": 6,
   "metadata": {},
   "outputs": [],
   "source": [
    "FlightNodesList = GetTaxiway(FlightNodes, FlightEdges)[0]\n",
    "FlightEdgesList = GetTaxiway(FlightNodes, FlightEdges)[1]\n",
    "FlightEdgesWeights = GetTaxiway(FlightNodes, FlightEdges)[2]"
   ]
  },
  {
   "cell_type": "code",
   "execution_count": 7,
   "metadata": {},
   "outputs": [
    {
     "data": {
      "text/plain": [
       "[('1', '1', '2', '0', '8.06225775', 'taxiway', ''),\n",
       " ('2', '2', '3', '0', '6.40312424', 'taxiway', ''),\n",
       " ('3', '3', '4', '0', '7.07106781', 'taxiway', ''),\n",
       " ('4', '4', '5', '0', '3', 'taxiway', ''),\n",
       " ('5', '5', '6', '0', '11', 'taxiway', ''),\n",
       " ('6', '6', '7', '0', '4.12310563', 'taxiway', ''),\n",
       " ('7', '7', '8', '0', '3.60555128', 'taxiway', ''),\n",
       " ('8', '8', '13', '0', '7.07106781', 'taxiway', ''),\n",
       " ('9', '5', '9', '0', '5.09901951', 'taxiway', ''),\n",
       " ('10', '9', '10', '0', '6.40312424', 'taxiway', ''),\n",
       " ('11', '10', '11', '0', '2.23606798', 'taxiway', ''),\n",
       " ('12', '11', '12', '0', '4.47213595', 'taxiway', ''),\n",
       " ('13', '12', '13', '0', '6.08276253', 'taxiway', ''),\n",
       " ('14', '13', '14', '0', '5', 'taxiway', '')]"
      ]
     },
     "execution_count": 7,
     "metadata": {},
     "output_type": "execute_result"
    }
   ],
   "source": [
    "FlightEdgesList"
   ]
  },
  {
   "cell_type": "code",
   "execution_count": 12,
   "metadata": {},
   "outputs": [
    {
     "name": "stdout",
     "output_type": "stream",
     "text": [
      "('12.0', '29.0')\n",
      "0 1 ('8.0', '30.0') ('12.0', '23.0') (8.984615384615386, 27.276923076923076)\n",
      "1 2 ('12.0', '23.0') ('17.0', '19.0') (12.000000000000002, 29.0)\n",
      "2 3 ('17.0', '19.0') ('24.0', '18.0') (12.1, 29.700000000000003)\n"
     ]
    },
    {
     "ename": "ZeroDivisionError",
     "evalue": "float division by zero",
     "output_type": "error",
     "traceback": [
      "\u001b[0;31m---------------------------------------------------------------------------\u001b[0m",
      "\u001b[0;31mZeroDivisionError\u001b[0m                         Traceback (most recent call last)",
      "\u001b[0;32m<ipython-input-12-8f2ac69c8f57>\u001b[0m in \u001b[0;36m<module>\u001b[0;34m\u001b[0m\n\u001b[1;32m     15\u001b[0m         \u001b[0mEndY\u001b[0m \u001b[0;34m=\u001b[0m \u001b[0mfloat\u001b[0m\u001b[0;34m(\u001b[0m\u001b[0mEdgeEnd\u001b[0m\u001b[0;34m[\u001b[0m\u001b[0;36m1\u001b[0m\u001b[0;34m]\u001b[0m\u001b[0;34m)\u001b[0m\u001b[0;34m\u001b[0m\u001b[0;34m\u001b[0m\u001b[0m\n\u001b[1;32m     16\u001b[0m \u001b[0;34m\u001b[0m\u001b[0m\n\u001b[0;32m---> 17\u001b[0;31m         \u001b[0;34m(\u001b[0m\u001b[0mIntX\u001b[0m\u001b[0;34m,\u001b[0m \u001b[0mIntY\u001b[0m\u001b[0;34m)\u001b[0m \u001b[0;34m=\u001b[0m \u001b[0mNearestPointOnLine\u001b[0m\u001b[0;34m(\u001b[0m\u001b[0mPointX\u001b[0m\u001b[0;34m,\u001b[0m \u001b[0mPointY\u001b[0m\u001b[0;34m,\u001b[0m \u001b[0mStartX\u001b[0m\u001b[0;34m,\u001b[0m \u001b[0mStartY\u001b[0m\u001b[0;34m,\u001b[0m \u001b[0mEndX\u001b[0m\u001b[0;34m,\u001b[0m \u001b[0mEndY\u001b[0m\u001b[0;34m)\u001b[0m\u001b[0;34m\u001b[0m\u001b[0;34m\u001b[0m\u001b[0m\n\u001b[0m\u001b[1;32m     18\u001b[0m \u001b[0;34m\u001b[0m\u001b[0m\n\u001b[1;32m     19\u001b[0m         \u001b[0mprint\u001b[0m\u001b[0;34m(\u001b[0m\u001b[0mindex\u001b[0m\u001b[0;34m,\u001b[0m \u001b[0mEdgeID\u001b[0m\u001b[0;34m,\u001b[0m \u001b[0mEdgeStart\u001b[0m\u001b[0;34m,\u001b[0m \u001b[0mEdgeEnd\u001b[0m\u001b[0;34m,\u001b[0m \u001b[0;34m(\u001b[0m\u001b[0mIntX\u001b[0m\u001b[0;34m,\u001b[0m\u001b[0mIntY\u001b[0m\u001b[0;34m)\u001b[0m\u001b[0;34m)\u001b[0m\u001b[0;34m\u001b[0m\u001b[0;34m\u001b[0m\u001b[0m\n",
      "\u001b[0;32m~/AGMTools/AGMTools/PerpendicularDistance.ipynb\u001b[0m in \u001b[0;36mNearestPointOnLine\u001b[0;34m(PointX, PointY, StartX, StartY, EndX, EndY)\u001b[0m\n\u001b[1;32m     14\u001b[0m    \u001b[0;34m\"execution_count\"\u001b[0m\u001b[0;34m:\u001b[0m \u001b[0mnull\u001b[0m\u001b[0;34m,\u001b[0m\u001b[0;34m\u001b[0m\u001b[0;34m\u001b[0m\u001b[0m\n\u001b[1;32m     15\u001b[0m    \u001b[0;34m\"metadata\"\u001b[0m\u001b[0;34m:\u001b[0m \u001b[0;34m{\u001b[0m\u001b[0;34m}\u001b[0m\u001b[0;34m,\u001b[0m\u001b[0;34m\u001b[0m\u001b[0;34m\u001b[0m\u001b[0m\n\u001b[0;32m---> 16\u001b[0;31m    \u001b[0;34m\"outputs\"\u001b[0m\u001b[0;34m:\u001b[0m \u001b[0;34m[\u001b[0m\u001b[0;34m]\u001b[0m\u001b[0;34m,\u001b[0m\u001b[0;34m\u001b[0m\u001b[0;34m\u001b[0m\u001b[0m\n\u001b[0m\u001b[1;32m     17\u001b[0m    \u001b[0;34m\"source\"\u001b[0m\u001b[0;34m:\u001b[0m \u001b[0;34m[\u001b[0m\u001b[0;34m]\u001b[0m\u001b[0;34m\u001b[0m\u001b[0;34m\u001b[0m\u001b[0m\n\u001b[1;32m     18\u001b[0m   },\n",
      "\u001b[0;31mZeroDivisionError\u001b[0m: float division by zero"
     ]
    }
   ],
   "source": [
    "\n",
    "for item in FlightTrajectoryNodes:\n",
    "    print(item)\n",
    "    for index, edge in enumerate(FlightEdgesList):\n",
    "        EdgeID = GetEdgeID(FlightEdgesList)[index]\n",
    "        EdgeStart = GetEdgeStart(FlightEdgesList, FlightNodesList)[index]\n",
    "        EdgeEnd = GetEdgeEnd(FlightEdgesList, FlightNodesList)[index]\n",
    "        EdgeLength = GetEdgeLength(FlightEdgesList)[index]\n",
    "            \n",
    "        PointX = float(item[0])\n",
    "        PointY = float(item[1])\n",
    "        StartX = float(EdgeStart[0])\n",
    "        StartY = float(EdgeStart[1])\n",
    "        EndX = float(EdgeEnd[0])\n",
    "        EndY = float(EdgeEnd[1])\n",
    "            \n",
    "        (IntX, IntY) = NearestPointOnLine(PointX, PointY, StartX, StartY, EndX, EndY)\n",
    "            \n",
    "        print(index, EdgeID, EdgeStart, EdgeEnd, (IntX,IntY))\n",
    "            \n",
    "        pass"
   ]
  },
  {
   "cell_type": "code",
   "execution_count": null,
   "metadata": {},
   "outputs": [],
   "source": []
  },
  {
   "cell_type": "code",
   "execution_count": null,
   "metadata": {},
   "outputs": [],
   "source": []
  }
 ],
 "metadata": {
  "kernelspec": {
   "display_name": "Python 3",
   "language": "python",
   "name": "python3"
  },
  "language_info": {
   "codemirror_mode": {
    "name": "ipython",
    "version": 3
   },
   "file_extension": ".py",
   "mimetype": "text/x-python",
   "name": "python",
   "nbconvert_exporter": "python",
   "pygments_lexer": "ipython3",
   "version": "3.7.1"
  }
 },
 "nbformat": 4,
 "nbformat_minor": 2
}
