{
 "cells": [
  {
   "cell_type": "code",
   "execution_count": 1,
   "metadata": {},
   "outputs": [],
   "source": [
    "#This makes RawTrajectory the raw input file with all useless info included\n",
    "with open('BabyFlight.txt', mode='r') as BabyFlight:\n",
    "    Flight1 = BabyFlight.read().split(\"\\n\")[1]"
   ]
  },
  {
   "cell_type": "code",
   "execution_count": 2,
   "metadata": {},
   "outputs": [
    {
     "data": {
      "text/plain": [
       "'c2ed085\\tCX331\\tCPA331\\t{\"live\":false,\"text\":\"Landed 19:51\",\"icon\":\"green\",\"estimated\":null,\"ambiguous\":false,\"generic\":{\"status\":{\"text\":\"landed\",\"color\":\"green\",\"type\":\"arrival\"},\"eventTime\":{\"utc\":1484567464,\"local\":1484596264}}}\\t{\"name\":\"Cathay Pacific\",\"short\":\"Cathay Pacific\",\"code\":{\"iata\":\"CX\",\"icao\":\"CPA\"},\"url\":\"cathay-pacific-cpa\"}\\tPEK\\tHKG\\t-1\\t-1\\t-1\\t-1\\t-1\\t0\\t0\\t{\"model\":{\"code\":\"B772\",\"text\":\"Boeing 777-267\"},\"registration\":\"B-HNB\",\"hex\":\"780133\",\"age\":null,\"msn\":null,\"images\":{\"thumbnails\":[{\"src\":\"https://cdn.flightradar24.com/200/5/50204_1483629352_tb.jpg?v=0\",\"link\":\"https://external.flightradar24.com/redirect/?url=http%3A%2F%2Fwww.jetphotos.net%2Fphoto%2F8475638\",\"copyright\":\"ECHO\",\"source\":\"Jetphotos.net\"},{\"src\":\"https://cdn.flightradar24.com/200/6/84462_1482931040_tb.jpg?v=0\",\"link\":\"https://external.flightradar24.com/redirect/?url=http%3A%2F%2Fwww.jetphotos.net%2Fphoto%2F8466138\",\"copyright\":\"toeychincha\",\"source\":\"Jetphotos.net\"},{\"src\":\"https://cdn.flightradar24.com/200/6/74285_1472567022_tb.jpg?v=0\",\"link\":\"https://external.flightradar24.com/redirect/?url=http%3A%2F%2Fwww.jetphotos.net%2Fphoto%2F8370996\",\"copyright\":\"Soma Kitamura\",\"source\":\"Jetphotos.net\"},{\"src\":\"https://cdn.flightradar24.com/200/5/42313_1468769038_tb.jpg?v=0\",\"link\":\"https://external.flightradar24.com/redirect/?url=http%3A%2F%2Fwww.jetphotos.net%2Fphoto%2F8331516\",\"copyright\":\"Xiaoliang\",\"source\":\"Jetphotos.net\"},{\"src\":\"https://cdn.flightradar24.com/200/6/51852_1466511144_tb.jpg?v=0\",\"link\":\"https://external.flightradar24.com/redirect/?url=http%3A%2F%2Fwww.jetphotos.net%2Fphoto%2F8306506\",\"copyright\":\"AOLX7100\",\"source\":\"Jetphotos.net\"}],\"medium\":[{\"src\":\"https://cdn.flightradar24.com/400/5/50204_1483629352.jpg?v=0\",\"link\":\"https://external.flightradar24.com/redirect/?url=http%3A%2F%2Fwww.jetphotos.net%2Fphoto%2F8475638\",\"copyright\":\"ECHO\",\"source\":\"Jetphotos.net\"},{\"src\":\"https://cdn.flightradar24.com/400/6/84462_1482931040.jpg?v=0\",\"link\":\"https://external.flightradar24.com/redirect/?url=http%3A%2F%2Fwww.jetphotos.net%2Fphoto%2F8466138\",\"copyright\":\"toeychincha\",\"source\":\"Jetphotos.net\"},{\"src\":\"https://cdn.flightradar24.com/400/6/74285_1472567022.jpg?v=0\",\"link\":\"https://external.flightradar24.com/redirect/?url=http%3A%2F%2Fwww.jetphotos.net%2Fphoto%2F8370996\",\"copyright\":\"Soma Kitamura\",\"source\":\"Jetphotos.net\"},{\"src\":\"https://cdn.flightradar24.com/400/5/42313_1468769038.jpg?v=0\",\"link\":\"https://external.flightradar24.com/redirect/?url=http%3A%2F%2Fwww.jetphotos.net%2Fphoto%2F8331516\",\"copyright\":\"Xiaoliang\",\"source\":\"Jetphotos.net\"},{\"src\":\"https://cdn.flightradar24.com/400/6/51852_1466511144.jpg?v=0\",\"link\":\"https://external.flightradar24.com/redirect/?url=http%3A%2F%2Fwww.jetphotos.net%2Fphoto%2F8306506\",\"copyright\":\"AOLX7100\",\"source\":\"Jetphotos.net\"}],\"large\":[{\"src\":\"https://cdn.flightradar24.com/640cb/5/50204_1483629352.jpg?v=0\",\"link\":\"https://external.flightradar24.com/redirect/?url=http%3A%2F%2Fwww.jetphotos.net%2Fphoto%2F8475638\",\"copyright\":\"ECHO\",\"source\":\"Jetphotos.net\"},{\"src\":\"https://cdn.flightradar24.com/640cb/6/84462_1482931040.jpg?v=0\",\"link\":\"https://external.flightradar24.com/redirect/?url=http%3A%2F%2Fwww.jetphotos.net%2Fphoto%2F8466138\",\"copyright\":\"toeychincha\",\"source\":\"Jetphotos.net\"},{\"src\":\"https://cdn.flightradar24.com/640cb/6/74285_1472567022.jpg?v=0\",\"link\":\"https://external.flightradar24.com/redirect/?url=http%3A%2F%2Fwww.jetphotos.net%2Fphoto%2F8370996\",\"copyright\":\"Soma Kitamura\",\"source\":\"Jetphotos.net\"},{\"src\":\"https://cdn.flightradar24.com/640cb/5/42313_1468769038.jpg?v=0\",\"link\":\"https://external.flightradar24.com/redirect/?url=http%3A%2F%2Fwww.jetphotos.net%2Fphoto%2F8331516\",\"copyright\":\"Xiaoliang\",\"source\":\"Jetphotos.net\"},{\"src\":\"https://cdn.flightradar24.com/640cb/6/51852_1466511144.jpg?v=0\",\"link\":\"https://external.flightradar24.com/redirect/?url=http%3A%2F%2Fwww.jetphotos.net%2Fphoto%2F8306506\",\"copyright\":\"AOLX7100\",\"source\":\"Jetphotos.net\"}]}}\\t12.0,29.0,0.0,-26.0,16.0,23.0,0.0,-12.0,21.0,20.0,0.0,-9.0,24.0,21.0,0.0,-9.0,30.0,20.0,0.0,-9.0,31.0,24.0,0.0,-9.0,32.0,30.0,0.0,-9.0,36.0,31.0,0.0,-9.0,42.0,32.0,0.0,-9.0,49.0,32.0,0.0,-9.0 1484554418'"
      ]
     },
     "execution_count": 2,
     "metadata": {},
     "output_type": "execute_result"
    }
   ],
   "source": [
    "Flight1"
   ]
  },
  {
   "cell_type": "code",
   "execution_count": 3,
   "metadata": {},
   "outputs": [],
   "source": [
    "#Get GPS Trajectory Coordinates at the bottom\n",
    "def GetTrajectory(Flight):\n",
    "    '''This gets the GPS coordinates of the flight Trajectory and assigns values to variables'''\n",
    "    FlightLines = list(Flight.split(\"\\t\"))\n",
    "    RawTrajectory = list(FlightLines[-1].split(\" \")[0].split(\",\"))\n",
    "    \n",
    "    XCoords = []\n",
    "    YCoords = []\n",
    "    counter = 0\n",
    "    for value in RawTrajectory:\n",
    "        counter += 1\n",
    "        if counter == 1:\n",
    "            XCoords.append(value)\n",
    "        if counter == 2:\n",
    "            YCoords.append(value)\n",
    "        if counter == 3:\n",
    "            pass\n",
    "        if counter == 4:\n",
    "            counter = 0\n",
    "    \n",
    "    return list(zip(XCoords,YCoords))\n",
    "    "
   ]
  },
  {
   "cell_type": "code",
   "execution_count": 4,
   "metadata": {},
   "outputs": [
    {
     "data": {
      "text/plain": [
       "[('12.0', '29.0'),\n",
       " ('16.0', '23.0'),\n",
       " ('21.0', '20.0'),\n",
       " ('24.0', '21.0'),\n",
       " ('30.0', '20.0'),\n",
       " ('31.0', '24.0'),\n",
       " ('32.0', '30.0'),\n",
       " ('36.0', '31.0'),\n",
       " ('42.0', '32.0'),\n",
       " ('49.0', '32.0')]"
      ]
     },
     "execution_count": 4,
     "metadata": {},
     "output_type": "execute_result"
    }
   ],
   "source": [
    "GetTrajectory(Flight1)"
   ]
  },
  {
   "cell_type": "code",
   "execution_count": null,
   "metadata": {},
   "outputs": [],
   "source": []
  }
 ],
 "metadata": {
  "kernelspec": {
   "display_name": "Python 3",
   "language": "python",
   "name": "python3"
  },
  "language_info": {
   "codemirror_mode": {
    "name": "ipython",
    "version": 3
   },
   "file_extension": ".py",
   "mimetype": "text/x-python",
   "name": "python",
   "nbconvert_exporter": "python",
   "pygments_lexer": "ipython3",
   "version": "3.7.1"
  }
 },
 "nbformat": 4,
 "nbformat_minor": 2
}
