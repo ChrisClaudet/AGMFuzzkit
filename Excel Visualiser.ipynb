{
 "cells": [
  {
   "cell_type": "code",
   "execution_count": 1,
   "metadata": {},
   "outputs": [],
   "source": [
    "import networkx as nx\n",
    "import matplotlib.pyplot as plt\n",
    "import seaborn as sns\n",
    "%matplotlib notebook\n",
    "sns.set()"
   ]
  },
  {
   "cell_type": "code",
   "execution_count": 2,
   "metadata": {},
   "outputs": [],
   "source": [
    "with open('BabyFlightNodes.txt', mode='r') as BabyFlightNodes:\n",
    "    FlightEdges = BabyFlightNodes.read().split(\"%SECTION%\")[2]\n",
    "with open('BabyFlightNodes.txt', mode='r') as BabyFlightNodes:\n",
    "    FlightNodes = BabyFlightNodes.read().split(\"%SECTION%\")[1]"
   ]
  },
  {
   "cell_type": "code",
   "execution_count": 3,
   "metadata": {},
   "outputs": [],
   "source": [
    "with open('BabyFlight.txt', mode='r') as BabyFlight:\n",
    "    Flight1 = BabyFlight.read().split(\"\\n\")[1]"
   ]
  },
  {
   "cell_type": "code",
   "execution_count": 4,
   "metadata": {},
   "outputs": [],
   "source": [
    "from ipynb.fs.full.GetTrajectory import GetTrajectory"
   ]
  },
  {
   "cell_type": "code",
   "execution_count": 5,
   "metadata": {},
   "outputs": [],
   "source": [
    "from ipynb.fs.full.GetTaxiway import GetTaxiway, GetEdgeID, GetEdgeStart, GetEdgeEnd, GetEdgeSpecification, GetEdgeLength, GetEdgesAndNodes"
   ]
  },
  {
   "cell_type": "code",
   "execution_count": 6,
   "metadata": {},
   "outputs": [],
   "source": [
    "FlightNodesList = GetTaxiway(FlightNodes, FlightEdges)[0]\n",
    "FlightEdgesList = GetTaxiway(FlightNodes, FlightEdges)[1]\n",
    "FlightEdgesWeights = GetTaxiway(FlightNodes, FlightEdges)[2]"
   ]
  },
  {
   "cell_type": "code",
   "execution_count": 7,
   "metadata": {},
   "outputs": [
    {
     "data": {
      "text/plain": [
       "[('1', '8.0', '30.0', '', 'intermediate'),\n",
       " ('2', '12.0', '23.0', '', 'intermediate'),\n",
       " ('3', '17.0', '19.0', '', 'intermediate'),\n",
       " ('4', '24.0', '18.0', '', 'intermediate'),\n",
       " ('5', '27.0', '18.0', '', 'intermediate'),\n",
       " ('6', '38.0', '18.0', '', 'intermediate'),\n",
       " ('7', '42.0', '19.0', '', 'intermediate'),\n",
       " ('8', '44.0', '22.0', '', 'intermediate'),\n",
       " ('9', '28.0', '23.0', '', 'intermediate'),\n",
       " ('10', '33.0', '27.0', '', 'intermediate'),\n",
       " ('11', '35.0', '28.0', '', 'intermediate'),\n",
       " ('12', '39.0', '30.0', '', 'intermediate'),\n",
       " ('13', '45.0', '29.0', '', 'intermediate'),\n",
       " ('14', '50.0', '29.0', '', 'intermediate')]"
      ]
     },
     "execution_count": 7,
     "metadata": {},
     "output_type": "execute_result"
    }
   ],
   "source": [
    "FlightCoordsList = GetTrajectory(Flight1)\n",
    "FlightNodesList"
   ]
  },
  {
   "cell_type": "code",
   "execution_count": 8,
   "metadata": {},
   "outputs": [
    {
     "data": {
      "text/plain": [
       "[(1, 1, 2, 8.06225775, 'gate', 8.0, 30.0, 12.0, 23.0),\n",
       " (2, 2, 3, 6.40312424, 'taxiway', 12.0, 23.0, 17.0, 19.0),\n",
       " (3, 3, 4, 7.07106781, 'taxiway', 17.0, 19.0, 24.0, 18.0),\n",
       " (4, 4, 5, 3.0, 'taxiway', 24.0, 18.0, 27.0, 18.0),\n",
       " (5, 5, 6, 11.0, 'taxiway', 27.0, 18.0, 38.0, 18.0),\n",
       " (6, 6, 7, 4.12310563, 'taxiway', 38.0, 18.0, 42.0, 19.0),\n",
       " (7, 7, 8, 3.60555128, 'taxiway', 42.0, 19.0, 44.0, 22.0),\n",
       " (8, 8, 13, 7.07106781, 'taxiway', 44.0, 22.0, 45.0, 29.0),\n",
       " (9, 5, 9, 5.09901951, 'taxiway', 27.0, 18.0, 28.0, 23.0),\n",
       " (10, 9, 10, 6.40312424, 'taxiway', 28.0, 23.0, 33.0, 27.0),\n",
       " (11, 10, 11, 2.23606798, 'taxiway', 33.0, 27.0, 35.0, 28.0),\n",
       " (12, 11, 12, 4.47213595, 'taxiway', 35.0, 28.0, 39.0, 30.0),\n",
       " (13, 12, 13, 6.08276253, 'taxiway', 39.0, 30.0, 45.0, 29.0),\n",
       " (14, 13, 14, 5.0, 'taxiway', 45.0, 29.0, 50.0, 29.0)]"
      ]
     },
     "execution_count": 8,
     "metadata": {},
     "output_type": "execute_result"
    }
   ],
   "source": [
    "EdgesAndNodes = GetEdgesAndNodes(FlightEdgesList)\n",
    "EdgesAndNodes"
   ]
  },
  {
   "cell_type": "code",
   "execution_count": null,
   "metadata": {},
   "outputs": [],
   "source": []
  },
  {
   "cell_type": "code",
   "execution_count": 9,
   "metadata": {},
   "outputs": [],
   "source": [
    "#import xlwt\n",
    "#from tempfile import TemporaryFile\n",
    "#book = xlwt.Workbook()\n",
    "#sheet1 = book.add_sheet('sheet1')\n",
    "#\n",
    "#for i,e in enumerate(FlightCoordsList):\n",
    "#    sheet1.write(i,1,e[0])\n",
    "#    sheet1.write(i,2,e[1])\n",
    "#for i,e in enumerate(FlightEdgesList):\n",
    "#    sheet1.write(i,4,e[0])\n",
    "#    sheet1.write(i,5,e[1])\n",
    "#    sheet1.write(i,4,e[0])\n",
    "#    sheet1.write(i,5,e[1])\n",
    "#    sheet1.write(i,4,e[0])\n",
    "#    sheet1.write(i,5,e[1])\n",
    "#    sheet1.write(i,4,e[0])\n",
    "#    sheet1.write(i,5,e[1])\n",
    "#    sheet1.write(i,5,e[1])\n",
    "#name = \"random.xls\"\n",
    "#book.save(name)\n",
    "#book.save(TemporaryFile())"
   ]
  },
  {
   "cell_type": "code",
   "execution_count": 10,
   "metadata": {},
   "outputs": [
    {
     "data": {
      "text/plain": [
       "(2, 2, 3, 6.40312424, 'taxiway', 12.0, 23.0, 17.0, 19.0)"
      ]
     },
     "execution_count": 10,
     "metadata": {},
     "output_type": "execute_result"
    }
   ],
   "source": [
    "EdgesAndNodes[1]"
   ]
  },
  {
   "cell_type": "code",
   "execution_count": 11,
   "metadata": {},
   "outputs": [],
   "source": [
    "G = nx.Graph()\n",
    "Nodes = {}\n",
    "for item in FlightNodesList:\n",
    "    NodeX = float(item[1])\n",
    "    NodeY = float(item[2])\n",
    "    Nodes[int(item[0])] = (NodeX, NodeY)\n",
    "\n",
    "G.add_nodes_from(Nodes.keys())\n",
    "for n, p in iter(Nodes.items()):\n",
    "    G.node[n]['pos'] = p\n",
    "\n",
    "NodeLinks = []\n",
    "for item in EdgesAndNodes:\n",
    "    NodeLinks.append((item[1], item[2], {'weight':item[3]}))\n",
    "G.add_edges_from(NodeLinks)\n",
    "\n",
    "#specification = nx.get_edge_attributes(G, 'specification')\n",
    "weight = nx.get_edge_attributes(G, 'weight')\n",
    "pos = nx.get_node_attributes(G, 'pos')"
   ]
  },
  {
   "cell_type": "code",
   "execution_count": 12,
   "metadata": {},
   "outputs": [
    {
     "data": {
      "text/plain": [
       "[(1, 1, 2, 8.06225775, 'gate', 8.0, 30.0, 12.0, 23.0),\n",
       " (2, 2, 3, 6.40312424, 'taxiway', 12.0, 23.0, 17.0, 19.0),\n",
       " (3, 3, 4, 7.07106781, 'taxiway', 17.0, 19.0, 24.0, 18.0),\n",
       " (4, 4, 5, 3.0, 'taxiway', 24.0, 18.0, 27.0, 18.0),\n",
       " (5, 5, 6, 11.0, 'taxiway', 27.0, 18.0, 38.0, 18.0),\n",
       " (6, 6, 7, 4.12310563, 'taxiway', 38.0, 18.0, 42.0, 19.0),\n",
       " (7, 7, 8, 3.60555128, 'taxiway', 42.0, 19.0, 44.0, 22.0),\n",
       " (8, 8, 13, 7.07106781, 'taxiway', 44.0, 22.0, 45.0, 29.0),\n",
       " (9, 5, 9, 5.09901951, 'taxiway', 27.0, 18.0, 28.0, 23.0),\n",
       " (10, 9, 10, 6.40312424, 'taxiway', 28.0, 23.0, 33.0, 27.0),\n",
       " (11, 10, 11, 2.23606798, 'taxiway', 33.0, 27.0, 35.0, 28.0),\n",
       " (12, 11, 12, 4.47213595, 'taxiway', 35.0, 28.0, 39.0, 30.0),\n",
       " (13, 12, 13, 6.08276253, 'taxiway', 39.0, 30.0, 45.0, 29.0),\n",
       " (14, 13, 14, 5.0, 'taxiway', 45.0, 29.0, 50.0, 29.0)]"
      ]
     },
     "execution_count": 12,
     "metadata": {},
     "output_type": "execute_result"
    }
   ],
   "source": [
    "EdgesAndNodes"
   ]
  },
  {
   "cell_type": "code",
   "execution_count": 13,
   "metadata": {},
   "outputs": [
    {
     "name": "stderr",
     "output_type": "stream",
     "text": [
      "/anaconda3/lib/python3.7/site-packages/networkx/drawing/nx_pylab.py:611: MatplotlibDeprecationWarning: isinstance(..., numbers.Number)\n",
      "  if cb.is_numlike(alpha):\n"
     ]
    },
    {
     "data": {
      "image/png": "[encoded data removed]",
      "text/plain": [
       "<Figure size 432x288 with 1 Axes>"
      ]
     },
     "metadata": {
      "needs_background": "light"
     },
     "output_type": "display_data"
    }
   ],
   "source": [
    "plt.figure()\n",
    "\n",
    "dic = {'taxiway':'red', 'gate': 'blue'}\n",
    "\n",
    "nx.draw_networkx(G, pos, node_size = 0.01, with_labels = False)\n",
    "#nx.draw_networkx_edge_labels(G, pos, edge_labels=weight)"
   ]
  },
  {
   "cell_type": "code",
   "execution_count": 14,
   "metadata": {},
   "outputs": [],
   "source": [
    "nx.draw_networkx?"
   ]
  },
  {
   "cell_type": "code",
   "execution_count": 15,
   "metadata": {},
   "outputs": [
    {
     "data": {
      "text/plain": [
       "(1, 1, 2, 8.06225775, 'gate', 8.0, 30.0, 12.0, 23.0)"
      ]
     },
     "execution_count": 15,
     "metadata": {},
     "output_type": "execute_result"
    }
   ],
   "source": [
    "GateEdges = []\n",
    "for item in EdgesAndNodes:\n",
    "    if item[4] == 'gate':\n",
    "        GateEdges.append(item)\n",
    "GateEdges[0]"
   ]
  },
  {
   "cell_type": "code",
   "execution_count": 16,
   "metadata": {},
   "outputs": [
    {
     "data": {
      "text/plain": [
       "(12.0, 23.0)"
      ]
     },
     "execution_count": 16,
     "metadata": {},
     "output_type": "execute_result"
    }
   ],
   "source": [
    "Node = []\n",
    "Nodes = []\n",
    "GateNodes = []\n",
    "for item in FlightNodesList:\n",
    "    Nodes.append((float(item[1]),float(item[2])))\n",
    "for item in FlightCoordsList:\n",
    "    Node.append((float(item[0]),float(item[1])))\n",
    "for item in GateEdges:\n",
    "    GateNodes.append((item[5], item[6]))\n",
    "    GateNodes.append((item[7], item[8]))\n",
    "GateNodes[1]"
   ]
  },
  {
   "cell_type": "code",
   "execution_count": 23,
   "metadata": {},
   "outputs": [],
   "source": [
    "from scipy import spatial\n",
    "tree = spatial.KDTree(Nodes)\n",
    "HighlightedNodes = list(tree.query(Node[5], 2)[1])"
   ]
  },
  {
   "cell_type": "code",
   "execution_count": 24,
   "metadata": {},
   "outputs": [
    {
     "data": {
      "text/plain": [
       "[8, 9]"
      ]
     },
     "execution_count": 24,
     "metadata": {},
     "output_type": "execute_result"
    }
   ],
   "source": [
    "HighlightedNodes"
   ]
  },
  {
   "cell_type": "code",
   "execution_count": 25,
   "metadata": {},
   "outputs": [
    {
     "data": {
      "text/plain": [
       "[(7, 7, 8, 3.60555128, 'taxiway', 42.0, 19.0, 44.0, 22.0),\n",
       " (8, 8, 13, 7.07106781, 'taxiway', 44.0, 22.0, 45.0, 29.0),\n",
       " (9, 5, 9, 5.09901951, 'taxiway', 27.0, 18.0, 28.0, 23.0),\n",
       " (10, 9, 10, 6.40312424, 'taxiway', 28.0, 23.0, 33.0, 27.0)]"
      ]
     },
     "execution_count": 25,
     "metadata": {},
     "output_type": "execute_result"
    }
   ],
   "source": [
    "HighlightedEdges = []\n",
    "for item in EdgesAndNodes:\n",
    "    if item[1] in HighlightedNodes or item[2] in HighlightedNodes:\n",
    "        HighlightedEdges.append(item)\n",
    "    else:\n",
    "        pass\n",
    "HighlightedEdges"
   ]
  },
  {
   "cell_type": "code",
   "execution_count": null,
   "metadata": {},
   "outputs": [],
   "source": []
  }
 ],
 "metadata": {
  "kernelspec": {
   "display_name": "Python 3",
   "language": "python",
   "name": "python3"
  },
  "language_info": {
   "codemirror_mode": {
    "name": "ipython",
    "version": 3
   },
   "file_extension": ".py",
   "mimetype": "text/x-python",
   "name": "python",
   "nbconvert_exporter": "python",
   "pygments_lexer": "ipython3",
   "version": "3.7.1"
  }
 },
 "nbformat": 4,
 "nbformat_minor": 2
}
